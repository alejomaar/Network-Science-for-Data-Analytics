{
 "cells": [
  {
   "cell_type": "code",
   "execution_count": 5,
   "metadata": {},
   "outputs": [
    {
     "ename": "ParseError",
     "evalue": "not well-formed (invalid token): line 1, column 2 (<string>)",
     "output_type": "error",
     "traceback": [
      "Traceback \u001b[1;36m(most recent call last)\u001b[0m:\n",
      "\u001b[0m  File \u001b[0;32mc:\\Users\\user\\.virtualenvs\\network_science-J3mh9D9T\\Lib\\site-packages\\IPython\\core\\interactiveshell.py:3577\u001b[0m in \u001b[0;35mrun_code\u001b[0m\n    exec(code_obj, self.user_global_ns, self.user_ns)\u001b[0m\n",
      "\u001b[0m  Cell \u001b[0;32mIn[5], line 8\u001b[0m\n    G = nx.read_gexf('hero.gephi')\u001b[0m\n",
      "\u001b[0m  File \u001b[0;32m<class 'networkx.utils.decorators.argmap'> compilation 10:5\u001b[0m in \u001b[0;35margmap_read_gexf_6\u001b[0m\n    import itertools\u001b[0m\n",
      "\u001b[0m  File \u001b[0;32mc:\\Users\\user\\.virtualenvs\\network_science-J3mh9D9T\\Lib\\site-packages\\networkx\\utils\\backends.py:412\u001b[0m in \u001b[0;35m__call__\u001b[0m\n    return self.orig_func(*args, **kwargs)\u001b[0m\n",
      "\u001b[0m  File \u001b[0;32mc:\\Users\\user\\.virtualenvs\\network_science-J3mh9D9T\\Lib\\site-packages\\networkx\\readwrite\\gexf.py:176\u001b[0m in \u001b[0;35mread_gexf\u001b[0m\n    G = reader(path)\u001b[0m\n",
      "\u001b[0m  File \u001b[0;32mc:\\Users\\user\\.virtualenvs\\network_science-J3mh9D9T\\Lib\\site-packages\\networkx\\readwrite\\gexf.py:697\u001b[0m in \u001b[0;35m__call__\u001b[0m\n    self.xml = ElementTree(file=stream)\u001b[0m\n",
      "\u001b[0m  File \u001b[0;32m~\\AppData\\Local\\Programs\\Python\\Python311\\Lib\\xml\\etree\\ElementTree.py:540\u001b[0m in \u001b[0;35m__init__\u001b[0m\n    self.parse(file)\u001b[0m\n",
      "\u001b[1;36m  File \u001b[1;32m~\\AppData\\Local\\Programs\\Python\\Python311\\Lib\\xml\\etree\\ElementTree.py:580\u001b[1;36m in \u001b[1;35mparse\u001b[1;36m\n\u001b[1;33m    self._root = parser._parse_whole(source)\u001b[1;36m\n",
      "\u001b[1;36m  File \u001b[1;32m<string>\u001b[1;36m\u001b[0m\n\u001b[1;31mParseError\u001b[0m\u001b[1;31m:\u001b[0m not well-formed (invalid token): line 1, column 2\n"
     ]
    }
   ],
   "source": [
    "import networkx as nx\n",
    "import matplotlib.pyplot as plt\n",
    "\n",
    "# Replace 'yourfile.net' with the path to your actual .net file\n",
    "net_file = 'marvel.net'\n",
    "\n",
    "# Reading the .net file\n",
    "G = nx.read_gexf('hero.gephi')\n",
    "\n"
   ]
  }
 ],
 "metadata": {
  "kernelspec": {
   "display_name": "network_science-J3mh9D9T",
   "language": "python",
   "name": "python3"
  },
  "language_info": {
   "codemirror_mode": {
    "name": "ipython",
    "version": 3
   },
   "file_extension": ".py",
   "mimetype": "text/x-python",
   "name": "python",
   "nbconvert_exporter": "python",
   "pygments_lexer": "ipython3",
   "version": "3.11.2"
  }
 },
 "nbformat": 4,
 "nbformat_minor": 2
}
