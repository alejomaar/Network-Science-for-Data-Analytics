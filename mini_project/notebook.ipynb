{
 "cells": [
  {
   "cell_type": "markdown",
   "metadata": {},
   "source": [
    "# Network Science Analysis of paper “Marvel Universe looks almost like a real social network“\n",
    "\n",
    "This notebook aims to replicate some of the results presented in the paper ***Marvel Universe looks almost like a real social network***. The paper examines the relationships, influences, and interactions between heroes and comics using network science.\n",
    "\n",
    "***Authors***:\n",
    "\n",
    "Manuel Alejandro Aponte Ramirez\n",
    "\n",
    "Ivan Alejandro Cruz Tole\n",
    "\n",
    "Martin Eduardo Espitia Nery"
   ]
  },
  {
   "cell_type": "code",
   "execution_count": 11,
   "metadata": {},
   "outputs": [],
   "source": [
    "import pandas as pd"
   ]
  },
  {
   "cell_type": "code",
   "execution_count": 12,
   "metadata": {},
   "outputs": [],
   "source": [
    "def network_file_to_df(path:str, col_left:str ,col_right:str, sep=':' ):\n",
    "    \"\"\"\n",
    "    Read data from a network file and return a DataFrame.\n",
    "\n",
    "    Parameters:\n",
    "    - path (str): The path to the network file.\n",
    "    - col_left (str): The name for the column containing the left-side values.\n",
    "    - col_right (str): The name for the column containing the right-side values.\n",
    "    - sep (str, optional): The separator used in the network file. Default is ':'.\n",
    "\n",
    "    Returns:\n",
    "    - pandas.DataFrame: A DataFrame containing the data read from the network file.\n",
    "    \"\"\"\n",
    "    data = []\n",
    "\n",
    "    with open(path, 'r', encoding=\"utf8\") as file:\n",
    "        for line in file:\n",
    "            try:\n",
    "                index, item = line.strip().split(sep, maxsplit=1)\n",
    "                data.append(\n",
    "                    {col_left:index, col_right:item.strip()}\n",
    "                    )  \n",
    "            except:\n",
    "                print('Error:',line)\n",
    "    \n",
    "    return pd.DataFrame(data)"
   ]
  },
  {
   "cell_type": "markdown",
   "metadata": {},
   "source": [
    "### Read network dataset\n",
    "\n",
    "Next, three datasets will be loaded. The information for each of these is as follows:\n",
    "\n",
    "\n",
    "**Characters (Node)**\n",
    "\n",
    "*vertex*: Vertex identification\n",
    "\n",
    "*character*: Character's name\n",
    "\n",
    "**Comics (Node)**\n",
    "\n",
    "*vertex*: Vertex identification\n",
    "\n",
    "*character*: Book's name\n",
    "\n",
    "**Edges (Edge)**\n",
    "\n",
    "*character*: Character's vertex identification\n",
    "\n",
    "*comic*: Comics in which the character appears."
   ]
  },
  {
   "cell_type": "code",
   "execution_count": 14,
   "metadata": {},
   "outputs": [
    {
     "data": {
      "text/html": [
       "<div>\n",
       "<style scoped>\n",
       "    .dataframe tbody tr th:only-of-type {\n",
       "        vertical-align: middle;\n",
       "    }\n",
       "\n",
       "    .dataframe tbody tr th {\n",
       "        vertical-align: top;\n",
       "    }\n",
       "\n",
       "    .dataframe thead th {\n",
       "        text-align: right;\n",
       "    }\n",
       "</style>\n",
       "<table border=\"1\" class=\"dataframe\">\n",
       "  <thead>\n",
       "    <tr style=\"text-align: right;\">\n",
       "      <th></th>\n",
       "      <th>vertex</th>\n",
       "      <th>character</th>\n",
       "      <th>index</th>\n",
       "    </tr>\n",
       "  </thead>\n",
       "  <tbody>\n",
       "    <tr>\n",
       "      <th>0</th>\n",
       "      <td>Vertex 1</td>\n",
       "      <td>24-HOUR MAN/EMMANUEL</td>\n",
       "      <td>1</td>\n",
       "    </tr>\n",
       "    <tr>\n",
       "      <th>1</th>\n",
       "      <td>Vertex 2</td>\n",
       "      <td>3-D MAN/CHARLES CHANDLER &amp; HAROLD CHANDLER</td>\n",
       "      <td>2</td>\n",
       "    </tr>\n",
       "    <tr>\n",
       "      <th>2</th>\n",
       "      <td>Vertex 3</td>\n",
       "      <td>4-D MAN/MERCURIO</td>\n",
       "      <td>3</td>\n",
       "    </tr>\n",
       "    <tr>\n",
       "      <th>3</th>\n",
       "      <td>Vertex 4</td>\n",
       "      <td>8-BALL/</td>\n",
       "      <td>4</td>\n",
       "    </tr>\n",
       "    <tr>\n",
       "      <th>4</th>\n",
       "      <td>Vertex 5</td>\n",
       "      <td>A</td>\n",
       "      <td>5</td>\n",
       "    </tr>\n",
       "  </tbody>\n",
       "</table>\n",
       "</div>"
      ],
      "text/plain": [
       "     vertex                                   character  index\n",
       "0  Vertex 1                        24-HOUR MAN/EMMANUEL      1\n",
       "1  Vertex 2  3-D MAN/CHARLES CHANDLER & HAROLD CHANDLER      2\n",
       "2  Vertex 3                            4-D MAN/MERCURIO      3\n",
       "3  Vertex 4                                     8-BALL/      4\n",
       "4  Vertex 5                                           A      5"
      ]
     },
     "execution_count": 14,
     "metadata": {},
     "output_type": "execute_result"
    }
   ],
   "source": [
    "characters_df = network_file_to_df('data/characters.txt','vertex','character')\n",
    "characters_df['index'] = characters_df.vertex.str.extract('(\\d+)').astype(int)\n",
    "characters_df.head()"
   ]
  },
  {
   "cell_type": "code",
   "execution_count": 15,
   "metadata": {},
   "outputs": [
    {
     "data": {
      "text/plain": [
       "6486"
      ]
     },
     "execution_count": 15,
     "metadata": {},
     "output_type": "execute_result"
    }
   ],
   "source": [
    "len(characters_df)"
   ]
  },
  {
   "cell_type": "code",
   "execution_count": 16,
   "metadata": {},
   "outputs": [
    {
     "data": {
      "text/html": [
       "<div>\n",
       "<style scoped>\n",
       "    .dataframe tbody tr th:only-of-type {\n",
       "        vertical-align: middle;\n",
       "    }\n",
       "\n",
       "    .dataframe tbody tr th {\n",
       "        vertical-align: top;\n",
       "    }\n",
       "\n",
       "    .dataframe thead th {\n",
       "        text-align: right;\n",
       "    }\n",
       "</style>\n",
       "<table border=\"1\" class=\"dataframe\">\n",
       "  <thead>\n",
       "    <tr style=\"text-align: right;\">\n",
       "      <th></th>\n",
       "      <th>vertex</th>\n",
       "      <th>comic</th>\n",
       "      <th>index</th>\n",
       "    </tr>\n",
       "  </thead>\n",
       "  <tbody>\n",
       "    <tr>\n",
       "      <th>0</th>\n",
       "      <td>Vertex 6487</td>\n",
       "      <td>AA2 35</td>\n",
       "      <td>6487</td>\n",
       "    </tr>\n",
       "    <tr>\n",
       "      <th>1</th>\n",
       "      <td>Vertex 6488</td>\n",
       "      <td>M/PRM 35</td>\n",
       "      <td>6488</td>\n",
       "    </tr>\n",
       "    <tr>\n",
       "      <th>2</th>\n",
       "      <td>Vertex 6489</td>\n",
       "      <td>M/PRM 36</td>\n",
       "      <td>6489</td>\n",
       "    </tr>\n",
       "    <tr>\n",
       "      <th>3</th>\n",
       "      <td>Vertex 6490</td>\n",
       "      <td>M/PRM 37</td>\n",
       "      <td>6490</td>\n",
       "    </tr>\n",
       "    <tr>\n",
       "      <th>4</th>\n",
       "      <td>Vertex 6491</td>\n",
       "      <td>WI? 9</td>\n",
       "      <td>6491</td>\n",
       "    </tr>\n",
       "  </tbody>\n",
       "</table>\n",
       "</div>"
      ],
      "text/plain": [
       "        vertex     comic  index\n",
       "0  Vertex 6487    AA2 35   6487\n",
       "1  Vertex 6488  M/PRM 35   6488\n",
       "2  Vertex 6489  M/PRM 36   6489\n",
       "3  Vertex 6490  M/PRM 37   6490\n",
       "4  Vertex 6491     WI? 9   6491"
      ]
     },
     "execution_count": 16,
     "metadata": {},
     "output_type": "execute_result"
    }
   ],
   "source": [
    "comic_df = network_file_to_df('data/comics.txt','vertex','comic')\n",
    "comic_df['index'] = comic_df.vertex.str.extract('(\\d+)').astype(int)\n",
    "comic_df.head()"
   ]
  },
  {
   "cell_type": "code",
   "execution_count": 17,
   "metadata": {},
   "outputs": [
    {
     "data": {
      "text/plain": [
       "12942"
      ]
     },
     "execution_count": 17,
     "metadata": {},
     "output_type": "execute_result"
    }
   ],
   "source": [
    "len(comic_df)"
   ]
  },
  {
   "cell_type": "code",
   "execution_count": 18,
   "metadata": {},
   "outputs": [
    {
     "data": {
      "text/html": [
       "<div>\n",
       "<style scoped>\n",
       "    .dataframe tbody tr th:only-of-type {\n",
       "        vertical-align: middle;\n",
       "    }\n",
       "\n",
       "    .dataframe tbody tr th {\n",
       "        vertical-align: top;\n",
       "    }\n",
       "\n",
       "    .dataframe thead th {\n",
       "        text-align: right;\n",
       "    }\n",
       "</style>\n",
       "<table border=\"1\" class=\"dataframe\">\n",
       "  <thead>\n",
       "    <tr style=\"text-align: right;\">\n",
       "      <th></th>\n",
       "      <th>character</th>\n",
       "      <th>comic</th>\n",
       "    </tr>\n",
       "  </thead>\n",
       "  <tbody>\n",
       "    <tr>\n",
       "      <th>0</th>\n",
       "      <td>1</td>\n",
       "      <td>6487</td>\n",
       "    </tr>\n",
       "    <tr>\n",
       "      <th>1</th>\n",
       "      <td>2</td>\n",
       "      <td>6488 6489 6490 6491 6492 6493 6494 6495 6496</td>\n",
       "    </tr>\n",
       "    <tr>\n",
       "      <th>2</th>\n",
       "      <td>3</td>\n",
       "      <td>6497 6498 6499 6500 6501 6502 6503 6504 6505</td>\n",
       "    </tr>\n",
       "    <tr>\n",
       "      <th>3</th>\n",
       "      <td>4</td>\n",
       "      <td>6506 6507 6508</td>\n",
       "    </tr>\n",
       "    <tr>\n",
       "      <th>4</th>\n",
       "      <td>5</td>\n",
       "      <td>6509 6510 6511</td>\n",
       "    </tr>\n",
       "  </tbody>\n",
       "</table>\n",
       "</div>"
      ],
      "text/plain": [
       "  character                                         comic\n",
       "0         1                                          6487\n",
       "1         2  6488 6489 6490 6491 6492 6493 6494 6495 6496\n",
       "2         3  6497 6498 6499 6500 6501 6502 6503 6504 6505\n",
       "3         4                                6506 6507 6508\n",
       "4         5                                6509 6510 6511"
      ]
     },
     "execution_count": 18,
     "metadata": {},
     "output_type": "execute_result"
    }
   ],
   "source": [
    "edges_raw_df = network_file_to_df('data/edges.txt','character','comic', sep=\" \")\n",
    "edges_raw_df.head()"
   ]
  },
  {
   "cell_type": "code",
   "execution_count": 19,
   "metadata": {},
   "outputs": [
    {
     "data": {
      "text/plain": [
       "11090"
      ]
     },
     "execution_count": 19,
     "metadata": {},
     "output_type": "execute_result"
    }
   ],
   "source": [
    "len(edges_raw_df)"
   ]
  },
  {
   "cell_type": "markdown",
   "metadata": {},
   "source": [
    "### Data wrangling"
   ]
  },
  {
   "cell_type": "markdown",
   "metadata": {},
   "source": [
    "* Normalize relationships between characters and comics"
   ]
  },
  {
   "cell_type": "code",
   "execution_count": 20,
   "metadata": {},
   "outputs": [],
   "source": [
    "edges_raw_df['comic'] = edges_raw_df['comic'].apply(lambda x: x.split())\n",
    "edges_df = edges_raw_df.explode('comic')\n",
    "edges_df.reset_index(drop=True, inplace=True)"
   ]
  },
  {
   "cell_type": "code",
   "execution_count": 21,
   "metadata": {},
   "outputs": [
    {
     "data": {
      "text/html": [
       "<div>\n",
       "<style scoped>\n",
       "    .dataframe tbody tr th:only-of-type {\n",
       "        vertical-align: middle;\n",
       "    }\n",
       "\n",
       "    .dataframe tbody tr th {\n",
       "        vertical-align: top;\n",
       "    }\n",
       "\n",
       "    .dataframe thead th {\n",
       "        text-align: right;\n",
       "    }\n",
       "</style>\n",
       "<table border=\"1\" class=\"dataframe\">\n",
       "  <thead>\n",
       "    <tr style=\"text-align: right;\">\n",
       "      <th></th>\n",
       "      <th>character</th>\n",
       "      <th>comic</th>\n",
       "    </tr>\n",
       "  </thead>\n",
       "  <tbody>\n",
       "    <tr>\n",
       "      <th>0</th>\n",
       "      <td>1</td>\n",
       "      <td>6487</td>\n",
       "    </tr>\n",
       "    <tr>\n",
       "      <th>1</th>\n",
       "      <td>2</td>\n",
       "      <td>6488</td>\n",
       "    </tr>\n",
       "    <tr>\n",
       "      <th>2</th>\n",
       "      <td>2</td>\n",
       "      <td>6489</td>\n",
       "    </tr>\n",
       "    <tr>\n",
       "      <th>3</th>\n",
       "      <td>2</td>\n",
       "      <td>6490</td>\n",
       "    </tr>\n",
       "    <tr>\n",
       "      <th>4</th>\n",
       "      <td>2</td>\n",
       "      <td>6491</td>\n",
       "    </tr>\n",
       "  </tbody>\n",
       "</table>\n",
       "</div>"
      ],
      "text/plain": [
       "  character comic\n",
       "0         1  6487\n",
       "1         2  6488\n",
       "2         2  6489\n",
       "3         2  6490\n",
       "4         2  6491"
      ]
     },
     "execution_count": 21,
     "metadata": {},
     "output_type": "execute_result"
    }
   ],
   "source": [
    "edges_df.head()"
   ]
  },
  {
   "cell_type": "code",
   "execution_count": 22,
   "metadata": {},
   "outputs": [
    {
     "data": {
      "text/plain": [
       "96662"
      ]
     },
     "execution_count": 22,
     "metadata": {},
     "output_type": "execute_result"
    }
   ],
   "source": [
    "len(edges_df)"
   ]
  },
  {
   "cell_type": "markdown",
   "metadata": {},
   "source": [
    "The previous findings confirm the following original paper results:\n",
    "\n",
    "*\"this database collects over 96 000 appearances by more than 6 500 characters in\n",
    "about 13 000 comic books\"*"
   ]
  },
  {
   "cell_type": "code",
   "execution_count": 23,
   "metadata": {},
   "outputs": [
    {
     "data": {
      "text/html": [
       "<div>\n",
       "<style scoped>\n",
       "    .dataframe tbody tr th:only-of-type {\n",
       "        vertical-align: middle;\n",
       "    }\n",
       "\n",
       "    .dataframe tbody tr th {\n",
       "        vertical-align: top;\n",
       "    }\n",
       "\n",
       "    .dataframe thead th {\n",
       "        text-align: right;\n",
       "    }\n",
       "</style>\n",
       "<table border=\"1\" class=\"dataframe\">\n",
       "  <thead>\n",
       "    <tr style=\"text-align: right;\">\n",
       "      <th></th>\n",
       "      <th>title</th>\n",
       "      <th>result</th>\n",
       "    </tr>\n",
       "  </thead>\n",
       "  <tbody>\n",
       "    <tr>\n",
       "      <th>0</th>\n",
       "      <td>Number of characters</td>\n",
       "      <td>6486</td>\n",
       "    </tr>\n",
       "    <tr>\n",
       "      <th>1</th>\n",
       "      <td>Number of books</td>\n",
       "      <td>12942</td>\n",
       "    </tr>\n",
       "    <tr>\n",
       "      <th>2</th>\n",
       "      <td>Mean books per character</td>\n",
       "      <td>14.90</td>\n",
       "    </tr>\n",
       "    <tr>\n",
       "      <th>3</th>\n",
       "      <td>Mean characters per book:</td>\n",
       "      <td>7.47</td>\n",
       "    </tr>\n",
       "  </tbody>\n",
       "</table>\n",
       "</div>"
      ],
      "text/plain": [
       "                       title result\n",
       "0       Number of characters   6486\n",
       "1            Number of books  12942\n",
       "2   Mean books per character  14.90\n",
       "3  Mean characters per book:   7.47"
      ]
     },
     "execution_count": 23,
     "metadata": {},
     "output_type": "execute_result"
    }
   ],
   "source": [
    "table_1_df = pd.DataFrame(\n",
    "    [{\"title\": 'Number of characters', 'result': len(characters_df)},\n",
    "    {\"title\": 'Number of books', 'result': len(comic_df)},\n",
    "    {\"title\": 'Mean books per character', 'result': f\"{edges_df.groupby('character').count().mean().values[0]:.2f}\"},\n",
    "    {\"title\": 'Mean characters per book:', 'result': f\"{edges_df.groupby('comic').count().mean().values[0]:.2f}\"}\n",
    "    ]\n",
    ")\n",
    "table_1_df"
   ]
  },
  {
   "cell_type": "markdown",
   "metadata": {},
   "source": [
    "The previous table replicates the original paper table; *Table 1: Basic data on appearances of characters in comic books.*"
   ]
  },
  {
   "cell_type": "markdown",
   "metadata": {},
   "source": [
    "### Replicating section 3.1 The bipartite graph\n",
    "\n",
    "* Looking for the most popular character"
   ]
  },
  {
   "cell_type": "code",
   "execution_count": 49,
   "metadata": {},
   "outputs": [
    {
     "data": {
      "text/html": [
       "<div>\n",
       "<style scoped>\n",
       "    .dataframe tbody tr th:only-of-type {\n",
       "        vertical-align: middle;\n",
       "    }\n",
       "\n",
       "    .dataframe tbody tr th {\n",
       "        vertical-align: top;\n",
       "    }\n",
       "\n",
       "    .dataframe thead th {\n",
       "        text-align: right;\n",
       "    }\n",
       "</style>\n",
       "<table border=\"1\" class=\"dataframe\">\n",
       "  <thead>\n",
       "    <tr style=\"text-align: right;\">\n",
       "      <th></th>\n",
       "      <th>character</th>\n",
       "      <th>comic</th>\n",
       "    </tr>\n",
       "  </thead>\n",
       "  <tbody>\n",
       "    <tr>\n",
       "      <th>4786</th>\n",
       "      <td>5306</td>\n",
       "      <td>1625</td>\n",
       "    </tr>\n",
       "  </tbody>\n",
       "</table>\n",
       "</div>"
      ],
      "text/plain": [
       "     character  comic\n",
       "4786      5306   1625"
      ]
     },
     "execution_count": 49,
     "metadata": {},
     "output_type": "execute_result"
    }
   ],
   "source": [
    "most_popular_character = edges_df.groupby('character').count().reset_index().sort_values('comic', ascending=False).head(1)\n",
    "most_popular_character"
   ]
  },
  {
   "cell_type": "code",
   "execution_count": 50,
   "metadata": {},
   "outputs": [
    {
     "data": {
      "text/html": [
       "<div>\n",
       "<style scoped>\n",
       "    .dataframe tbody tr th:only-of-type {\n",
       "        vertical-align: middle;\n",
       "    }\n",
       "\n",
       "    .dataframe tbody tr th {\n",
       "        vertical-align: top;\n",
       "    }\n",
       "\n",
       "    .dataframe thead th {\n",
       "        text-align: right;\n",
       "    }\n",
       "</style>\n",
       "<table border=\"1\" class=\"dataframe\">\n",
       "  <thead>\n",
       "    <tr style=\"text-align: right;\">\n",
       "      <th></th>\n",
       "      <th>vertex</th>\n",
       "      <th>character</th>\n",
       "      <th>index</th>\n",
       "    </tr>\n",
       "  </thead>\n",
       "  <tbody>\n",
       "    <tr>\n",
       "      <th>5305</th>\n",
       "      <td>Vertex 5306</td>\n",
       "      <td>SPIDER-MAN/PETER PARKER</td>\n",
       "      <td>5306</td>\n",
       "    </tr>\n",
       "  </tbody>\n",
       "</table>\n",
       "</div>"
      ],
      "text/plain": [
       "           vertex                character  index\n",
       "5305  Vertex 5306  SPIDER-MAN/PETER PARKER   5306"
      ]
     },
     "execution_count": 50,
     "metadata": {},
     "output_type": "execute_result"
    }
   ],
   "source": [
    "characters_df[characters_df[\"index\"] == int(most_popular_character['character'].values[0])]"
   ]
  },
  {
   "cell_type": "markdown",
   "metadata": {},
   "source": [
    "The previous results confirm the result:\n",
    "*The number of appearances spans from 1 to 1 625: this greatest value corresponds to Spider-Man*"
   ]
  },
  {
   "cell_type": "markdown",
   "metadata": {},
   "source": [
    "* Creating distribution plots in the bipartite graph"
   ]
  },
  {
   "cell_type": "code",
   "execution_count": 51,
   "metadata": {},
   "outputs": [
    {
     "data": {
      "text/html": [
       "<div>\n",
       "<style scoped>\n",
       "    .dataframe tbody tr th:only-of-type {\n",
       "        vertical-align: middle;\n",
       "    }\n",
       "\n",
       "    .dataframe tbody tr th {\n",
       "        vertical-align: top;\n",
       "    }\n",
       "\n",
       "    .dataframe thead th {\n",
       "        text-align: right;\n",
       "    }\n",
       "</style>\n",
       "<table border=\"1\" class=\"dataframe\">\n",
       "  <thead>\n",
       "    <tr style=\"text-align: right;\">\n",
       "      <th></th>\n",
       "      <th>number_characters_per_book</th>\n",
       "      <th>frequency_of_books</th>\n",
       "    </tr>\n",
       "  </thead>\n",
       "  <tbody>\n",
       "    <tr>\n",
       "      <th>0</th>\n",
       "      <td>1</td>\n",
       "      <td>0.119688</td>\n",
       "    </tr>\n",
       "    <tr>\n",
       "      <th>1</th>\n",
       "      <td>3</td>\n",
       "      <td>0.084917</td>\n",
       "    </tr>\n",
       "    <tr>\n",
       "      <th>2</th>\n",
       "      <td>5</td>\n",
       "      <td>0.084454</td>\n",
       "    </tr>\n",
       "    <tr>\n",
       "      <th>3</th>\n",
       "      <td>4</td>\n",
       "      <td>0.084299</td>\n",
       "    </tr>\n",
       "    <tr>\n",
       "      <th>4</th>\n",
       "      <td>2</td>\n",
       "      <td>0.081286</td>\n",
       "    </tr>\n",
       "  </tbody>\n",
       "</table>\n",
       "</div>"
      ],
      "text/plain": [
       "   number_characters_per_book  frequency_of_books\n",
       "0                           1            0.119688\n",
       "1                           3            0.084917\n",
       "2                           5            0.084454\n",
       "3                           4            0.084299\n",
       "4                           2            0.081286"
      ]
     },
     "execution_count": 51,
     "metadata": {},
     "output_type": "execute_result"
    }
   ],
   "source": [
    "freq_characters_by_book = edges_df.groupby('comic').count().value_counts(normalize = True).reset_index()\n",
    "freq_characters_by_book.columns = ['number_characters_per_book','frequency_of_books']\n",
    "freq_characters_by_book.head()"
   ]
  },
  {
   "cell_type": "code",
   "execution_count": 52,
   "metadata": {},
   "outputs": [
    {
     "data": {
      "image/png": "[encoded data removed]",
      "text/plain": [
       "<Figure size 800x600 with 1 Axes>"
      ]
     },
     "metadata": {},
     "output_type": "display_data"
    }
   ],
   "source": [
    "import matplotlib.pyplot as plt\n",
    "\n",
    "\n",
    "# Create the scatter plot\n",
    "plt.figure(figsize=[8, 6])\n",
    "plt.scatter(freq_characters_by_book['number_characters_per_book'], freq_characters_by_book['frequency_of_books'], edgecolor='black')\n",
    "plt.xlabel('Number of characters per book')\n",
    "plt.ylabel('frequency of books ')\n",
    "# Applying log scale\n",
    "plt.xscale('log')\n",
    "plt.yscale('log')\n",
    "\n",
    "# Set specific tick marks\n",
    "x_ticks = [1, 5, 10, 50, 100]\n",
    "y_ticks = [0.001, 0.005, 0.01, 0.05, 0.1,0.5]\n",
    "plt.xticks(x_ticks, labels=x_ticks)\n",
    "plt.yticks(y_ticks, labels=y_ticks)\n",
    "\n",
    "plt.title('Distribution of Characters per Book')\n",
    "#plt.grid(True, linestyle='--', alpha=0.7)\n",
    "plt.show()\n"
   ]
  },
  {
   "cell_type": "code",
   "execution_count": 53,
   "metadata": {},
   "outputs": [
    {
     "data": {
      "text/html": [
       "<div>\n",
       "<style scoped>\n",
       "    .dataframe tbody tr th:only-of-type {\n",
       "        vertical-align: middle;\n",
       "    }\n",
       "\n",
       "    .dataframe tbody tr th {\n",
       "        vertical-align: top;\n",
       "    }\n",
       "\n",
       "    .dataframe thead th {\n",
       "        text-align: right;\n",
       "    }\n",
       "</style>\n",
       "<table border=\"1\" class=\"dataframe\">\n",
       "  <thead>\n",
       "    <tr style=\"text-align: right;\">\n",
       "      <th></th>\n",
       "      <th>number_books_per_character</th>\n",
       "      <th>frequency_of_characters</th>\n",
       "    </tr>\n",
       "  </thead>\n",
       "  <tbody>\n",
       "    <tr>\n",
       "      <th>0</th>\n",
       "      <td>1</td>\n",
       "      <td>0.284150</td>\n",
       "    </tr>\n",
       "    <tr>\n",
       "      <th>1</th>\n",
       "      <td>2</td>\n",
       "      <td>0.159420</td>\n",
       "    </tr>\n",
       "    <tr>\n",
       "      <th>2</th>\n",
       "      <td>3</td>\n",
       "      <td>0.100678</td>\n",
       "    </tr>\n",
       "    <tr>\n",
       "      <th>3</th>\n",
       "      <td>4</td>\n",
       "      <td>0.061980</td>\n",
       "    </tr>\n",
       "    <tr>\n",
       "      <th>4</th>\n",
       "      <td>5</td>\n",
       "      <td>0.053808</td>\n",
       "    </tr>\n",
       "  </tbody>\n",
       "</table>\n",
       "</div>"
      ],
      "text/plain": [
       "   number_books_per_character  frequency_of_characters\n",
       "0                           1                 0.284150\n",
       "1                           2                 0.159420\n",
       "2                           3                 0.100678\n",
       "3                           4                 0.061980\n",
       "4                           5                 0.053808"
      ]
     },
     "execution_count": 53,
     "metadata": {},
     "output_type": "execute_result"
    }
   ],
   "source": [
    "freq_characters_by_character = edges_df.groupby('character').count().value_counts(normalize = True).reset_index()\n",
    "freq_characters_by_character.columns = ['number_books_per_character','frequency_of_characters']\n",
    "freq_characters_by_character.head()"
   ]
  },
  {
   "cell_type": "code",
   "execution_count": 54,
   "metadata": {},
   "outputs": [
    {
     "data": {
      "image/png": "[encoded data removed]",
      "text/plain": [
       "<Figure size 700x500 with 1 Axes>"
      ]
     },
     "metadata": {},
     "output_type": "display_data"
    }
   ],
   "source": [
    "import matplotlib.pyplot as plt\n",
    "\n",
    "\n",
    "# Create the scatter plot\n",
    "plt.figure(figsize=[7, 5])\n",
    "plt.scatter(freq_characters_by_character['number_books_per_character'], freq_characters_by_character['frequency_of_characters'], edgecolor='black')\n",
    "plt.xlabel('Number of books per character')\n",
    "plt.ylabel('frequency of characters ')\n",
    "# Applying log scale\n",
    "plt.xscale('log')\n",
    "plt.yscale('log')\n",
    "\n",
    "# Set specific tick marks\n",
    "x_ticks = [1, 5, 10, 50, 100,500,1000]\n",
    "y_ticks = [0.001, 0.005, 0.01, 0.05, 0.1,0.5]\n",
    "plt.xticks(x_ticks, labels=x_ticks)\n",
    "plt.yticks(y_ticks, labels=y_ticks)\n",
    "\n",
    "plt.title('Distribution of Characters per Book')\n",
    "#plt.grid(True, linestyle='--', alpha=0.7)\n",
    "plt.show()\n"
   ]
  },
  {
   "cell_type": "markdown",
   "metadata": {},
   "source": [
    "The previous plots show a high similarity between the figures 1 and 2 of the paper."
   ]
  },
  {
   "cell_type": "markdown",
   "metadata": {},
   "source": [
    "### Creating the collaboration network \n"
   ]
  },
  {
   "cell_type": "code",
   "execution_count": 56,
   "metadata": {},
   "outputs": [
    {
     "data": {
      "text/html": [
       "<div>\n",
       "<style scoped>\n",
       "    .dataframe tbody tr th:only-of-type {\n",
       "        vertical-align: middle;\n",
       "    }\n",
       "\n",
       "    .dataframe tbody tr th {\n",
       "        vertical-align: top;\n",
       "    }\n",
       "\n",
       "    .dataframe thead th {\n",
       "        text-align: right;\n",
       "    }\n",
       "</style>\n",
       "<table border=\"1\" class=\"dataframe\">\n",
       "  <thead>\n",
       "    <tr style=\"text-align: right;\">\n",
       "      <th></th>\n",
       "      <th>character_x</th>\n",
       "      <th>comic</th>\n",
       "      <th>character_y</th>\n",
       "      <th>relation_key</th>\n",
       "    </tr>\n",
       "  </thead>\n",
       "  <tbody>\n",
       "    <tr>\n",
       "      <th>1</th>\n",
       "      <td>1</td>\n",
       "      <td>6487</td>\n",
       "      <td>1999</td>\n",
       "      <td>['1', '1999']</td>\n",
       "    </tr>\n",
       "    <tr>\n",
       "      <th>2</th>\n",
       "      <td>1</td>\n",
       "      <td>6487</td>\n",
       "      <td>6459</td>\n",
       "      <td>['1', '6459']</td>\n",
       "    </tr>\n",
       "    <tr>\n",
       "      <th>3</th>\n",
       "      <td>1</td>\n",
       "      <td>6487</td>\n",
       "      <td>6463</td>\n",
       "      <td>['1', '6463']</td>\n",
       "    </tr>\n",
       "    <tr>\n",
       "      <th>4</th>\n",
       "      <td>1</td>\n",
       "      <td>6487</td>\n",
       "      <td>6464</td>\n",
       "      <td>['1', '6464']</td>\n",
       "    </tr>\n",
       "    <tr>\n",
       "      <th>5</th>\n",
       "      <td>1</td>\n",
       "      <td>6487</td>\n",
       "      <td>6471</td>\n",
       "      <td>['1', '6471']</td>\n",
       "    </tr>\n",
       "    <tr>\n",
       "      <th>...</th>\n",
       "      <td>...</td>\n",
       "      <td>...</td>\n",
       "      <td>...</td>\n",
       "      <td>...</td>\n",
       "    </tr>\n",
       "    <tr>\n",
       "      <th>1236181</th>\n",
       "      <td>6481</td>\n",
       "      <td>18709</td>\n",
       "      <td>6484</td>\n",
       "      <td>['6481', '6484']</td>\n",
       "    </tr>\n",
       "    <tr>\n",
       "      <th>1236184</th>\n",
       "      <td>6482</td>\n",
       "      <td>15336</td>\n",
       "      <td>6485</td>\n",
       "      <td>['6482', '6485']</td>\n",
       "    </tr>\n",
       "    <tr>\n",
       "      <th>1236185</th>\n",
       "      <td>6482</td>\n",
       "      <td>15336</td>\n",
       "      <td>6486</td>\n",
       "      <td>['6482', '6486']</td>\n",
       "    </tr>\n",
       "    <tr>\n",
       "      <th>1236189</th>\n",
       "      <td>6483</td>\n",
       "      <td>18709</td>\n",
       "      <td>6484</td>\n",
       "      <td>['6483', '6484']</td>\n",
       "    </tr>\n",
       "    <tr>\n",
       "      <th>1236197</th>\n",
       "      <td>6485</td>\n",
       "      <td>15336</td>\n",
       "      <td>6486</td>\n",
       "      <td>['6485', '6486']</td>\n",
       "    </tr>\n",
       "  </tbody>\n",
       "</table>\n",
       "<p>569770 rows × 4 columns</p>\n",
       "</div>"
      ],
      "text/plain": [
       "        character_x  comic character_y      relation_key\n",
       "1                 1   6487        1999     ['1', '1999']\n",
       "2                 1   6487        6459     ['1', '6459']\n",
       "3                 1   6487        6463     ['1', '6463']\n",
       "4                 1   6487        6464     ['1', '6464']\n",
       "5                 1   6487        6471     ['1', '6471']\n",
       "...             ...    ...         ...               ...\n",
       "1236181        6481  18709        6484  ['6481', '6484']\n",
       "1236184        6482  15336        6485  ['6482', '6485']\n",
       "1236185        6482  15336        6486  ['6482', '6486']\n",
       "1236189        6483  18709        6484  ['6483', '6484']\n",
       "1236197        6485  15336        6486  ['6485', '6486']\n",
       "\n",
       "[569770 rows x 4 columns]"
      ]
     },
     "execution_count": 56,
     "metadata": {},
     "output_type": "execute_result"
    }
   ],
   "source": [
    "# all collaborations in the Marvel Universe history,\n",
    "merged_df = pd.merge(edges_df, edges_df, on='comic')\n",
    "merged_df['relation_key'] = merged_df.apply(lambda row: str(sorted((row['character_x'], row['character_y']))), axis=1)\n",
    "merged_df['relation_key'] = merged_df.apply(lambda row: str(sorted((row['character_x'], row['character_y']))), axis=1)\n",
    "filtered_df = merged_df[merged_df['character_x'] != merged_df['character_y']]\n",
    "unique_df = filtered_df.drop_duplicates(subset=['relation_key', 'comic'])\n",
    "unique_df"
   ]
  },
  {
   "cell_type": "code",
   "execution_count": 58,
   "metadata": {},
   "outputs": [
    {
     "data": {
      "text/html": [
       "<div>\n",
       "<style scoped>\n",
       "    .dataframe tbody tr th:only-of-type {\n",
       "        vertical-align: middle;\n",
       "    }\n",
       "\n",
       "    .dataframe tbody tr th {\n",
       "        vertical-align: top;\n",
       "    }\n",
       "\n",
       "    .dataframe thead th {\n",
       "        text-align: right;\n",
       "    }\n",
       "</style>\n",
       "<table border=\"1\" class=\"dataframe\">\n",
       "  <thead>\n",
       "    <tr style=\"text-align: right;\">\n",
       "      <th></th>\n",
       "      <th>relation_key</th>\n",
       "      <th>character_x</th>\n",
       "      <th>comic</th>\n",
       "      <th>character_y</th>\n",
       "    </tr>\n",
       "  </thead>\n",
       "  <tbody>\n",
       "    <tr>\n",
       "      <th>0</th>\n",
       "      <td>['1', '1999']</td>\n",
       "      <td>1</td>\n",
       "      <td>6487</td>\n",
       "      <td>1999</td>\n",
       "    </tr>\n",
       "    <tr>\n",
       "      <th>1</th>\n",
       "      <td>['1', '6459']</td>\n",
       "      <td>1</td>\n",
       "      <td>6487</td>\n",
       "      <td>6459</td>\n",
       "    </tr>\n",
       "    <tr>\n",
       "      <th>2</th>\n",
       "      <td>['1', '6463']</td>\n",
       "      <td>1</td>\n",
       "      <td>6487</td>\n",
       "      <td>6463</td>\n",
       "    </tr>\n",
       "    <tr>\n",
       "      <th>3</th>\n",
       "      <td>['1', '6464']</td>\n",
       "      <td>1</td>\n",
       "      <td>6487</td>\n",
       "      <td>6464</td>\n",
       "    </tr>\n",
       "    <tr>\n",
       "      <th>4</th>\n",
       "      <td>['1', '6471']</td>\n",
       "      <td>1</td>\n",
       "      <td>6487</td>\n",
       "      <td>6471</td>\n",
       "    </tr>\n",
       "    <tr>\n",
       "      <th>...</th>\n",
       "      <td>...</td>\n",
       "      <td>...</td>\n",
       "      <td>...</td>\n",
       "      <td>...</td>\n",
       "    </tr>\n",
       "    <tr>\n",
       "      <th>168262</th>\n",
       "      <td>['983', '984']</td>\n",
       "      <td>983</td>\n",
       "      <td>13798</td>\n",
       "      <td>984</td>\n",
       "    </tr>\n",
       "    <tr>\n",
       "      <th>168263</th>\n",
       "      <td>['983', '985']</td>\n",
       "      <td>983</td>\n",
       "      <td>13798</td>\n",
       "      <td>985</td>\n",
       "    </tr>\n",
       "    <tr>\n",
       "      <th>168264</th>\n",
       "      <td>['984', '985']</td>\n",
       "      <td>984</td>\n",
       "      <td>13798</td>\n",
       "      <td>985</td>\n",
       "    </tr>\n",
       "    <tr>\n",
       "      <th>168265</th>\n",
       "      <td>['988', '989']</td>\n",
       "      <td>988</td>\n",
       "      <td>6545</td>\n",
       "      <td>989</td>\n",
       "    </tr>\n",
       "    <tr>\n",
       "      <th>168266</th>\n",
       "      <td>['991', '993']</td>\n",
       "      <td>991</td>\n",
       "      <td>9195</td>\n",
       "      <td>993</td>\n",
       "    </tr>\n",
       "  </tbody>\n",
       "</table>\n",
       "<p>168267 rows × 4 columns</p>\n",
       "</div>"
      ],
      "text/plain": [
       "          relation_key character_x  comic character_y\n",
       "0        ['1', '1999']           1   6487        1999\n",
       "1        ['1', '6459']           1   6487        6459\n",
       "2        ['1', '6463']           1   6487        6463\n",
       "3        ['1', '6464']           1   6487        6464\n",
       "4        ['1', '6471']           1   6487        6471\n",
       "...                ...         ...    ...         ...\n",
       "168262  ['983', '984']         983  13798         984\n",
       "168263  ['983', '985']         983  13798         985\n",
       "168264  ['984', '985']         984  13798         985\n",
       "168265  ['988', '989']         988   6545         989\n",
       "168266  ['991', '993']         991   9195         993\n",
       "\n",
       "[168267 rows x 4 columns]"
      ]
     },
     "execution_count": 58,
     "metadata": {},
     "output_type": "execute_result"
    }
   ],
   "source": [
    "# Number of link\n",
    "network_collaboration = unique_df.groupby('relation_key').first().reset_index()\n",
    "network_collaboration"
   ]
  },
  {
   "cell_type": "markdown",
   "metadata": {},
   "source": [
    "Upon reviewing the datasets \"unique_df\" and \"network_collaboration,\" it's clear that \"unique_df\" includes all collaborations in the Marvel Universe history. On the other hand, \"network_collaboration\" focuses on 168,267 links showing characters who have collaborated in comic books."
   ]
  },
  {
   "cell_type": "code",
   "execution_count": 59,
   "metadata": {},
   "outputs": [],
   "source": [
    "import networkx as nx\n",
    "\n",
    "G = nx.from_pandas_edgelist(network_collaboration, 'character_x', 'character_y')"
   ]
  },
  {
   "cell_type": "code",
   "execution_count": 60,
   "metadata": {},
   "outputs": [
    {
     "data": {
      "text/plain": [
       "52.03865780114427"
      ]
     },
     "execution_count": 60,
     "metadata": {},
     "output_type": "execute_result"
    }
   ],
   "source": [
    "mean_partners_per_character = sum(dict(G.degree()).values()) / G.number_of_nodes()\n",
    "mean_partners_per_character"
   ]
  },
  {
   "cell_type": "code",
   "execution_count": 61,
   "metadata": {},
   "outputs": [
    {
     "data": {
      "text/plain": [
       "6449"
      ]
     },
     "execution_count": 61,
     "metadata": {},
     "output_type": "execute_result"
    }
   ],
   "source": [
    "giant_component = max(nx.connected_components(G), key=len)\n",
    "size_of_giant_component = len(giant_component)\n",
    "size_of_giant_component"
   ]
  },
  {
   "cell_type": "code",
   "execution_count": 62,
   "metadata": {},
   "outputs": [],
   "source": [
    "giant_subgraph = G.subgraph(giant_component)\n"
   ]
  },
  {
   "cell_type": "code",
   "execution_count": 69,
   "metadata": {},
   "outputs": [],
   "source": [
    "import random\n",
    "\n",
    "node_degrees = {node: degree for node, degree in G.degree()}\n",
    "\n",
    "# Sort the dictionary by degrees in descending order\n",
    "sorted_nodes = sorted(node_degrees, key=node_degrees.get, reverse=True)\n",
    "\n",
    "# Extract the top 3500 nodes based on their degrees\n",
    "top_nodes = sorted_nodes[:4000]\n",
    "\n",
    "# Create a subgraph using these nodes\n",
    "subgraph = G.subgraph(top_nodes)\n",
    "\n",
    "# Extract the largest connected component from the subgraph\n",
    "largest_cc = max(nx.connected_components(subgraph), key=len)\n",
    "connected_subgraph = subgraph.subgraph(largest_cc)\n"
   ]
  },
  {
   "cell_type": "code",
   "execution_count": 70,
   "metadata": {},
   "outputs": [
    {
     "name": "stdout",
     "output_type": "stream",
     "text": [
      "Average shortest path length in the largest connected component of the subgraph: 2.3821647911977997\n"
     ]
    }
   ],
   "source": [
    "\n",
    "# Calculate the average shortest path length for the largest connected component of the subgraph\n",
    "avg_shortest_path_length = nx.average_shortest_path_length(connected_subgraph)\n",
    "print(\"Average shortest path length in the largest connected component of the subgraph:\", avg_shortest_path_length)\n"
   ]
  },
  {
   "cell_type": "code",
   "execution_count": 77,
   "metadata": {},
   "outputs": [
    {
     "data": {
      "text/plain": [
       "4"
      ]
     },
     "execution_count": 77,
     "metadata": {},
     "output_type": "execute_result"
    }
   ],
   "source": [
    "maximum_distance = nx.diameter(connected_subgraph)\n",
    "maximum_distance"
   ]
  },
  {
   "cell_type": "code",
   "execution_count": 75,
   "metadata": {},
   "outputs": [],
   "source": [
    "clustering_coefficient = nx.average_clustering(G)"
   ]
  },
  {
   "cell_type": "code",
   "execution_count": 76,
   "metadata": {},
   "outputs": [
    {
     "data": {
      "text/plain": [
       "0.776106168377454"
      ]
     },
     "execution_count": 76,
     "metadata": {},
     "output_type": "execute_result"
    }
   ],
   "source": [
    "clustering_coefficient"
   ]
  },
  {
   "cell_type": "code",
   "execution_count": 60,
   "metadata": {},
   "outputs": [
    {
     "data": {
      "text/plain": [
       "0.19255491397568864"
      ]
     },
     "execution_count": 60,
     "metadata": {},
     "output_type": "execute_result"
    }
   ],
   "source": [
    "nx.transitivity(G) "
   ]
  }
 ],
 "metadata": {
  "kernelspec": {
   "display_name": "network_science-J3mh9D9T",
   "language": "python",
   "name": "python3"
  },
  "language_info": {
   "codemirror_mode": {
    "name": "ipython",
    "version": 3
   },
   "file_extension": ".py",
   "mimetype": "text/x-python",
   "name": "python",
   "nbconvert_exporter": "python",
   "pygments_lexer": "ipython3",
   "version": "3.11.2"
  }
 },
 "nbformat": 4,
 "nbformat_minor": 2
}
