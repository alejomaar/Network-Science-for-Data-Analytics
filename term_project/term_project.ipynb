{
 "cells": [
  {
   "cell_type": "code",
   "execution_count": 93,
   "metadata": {},
   "outputs": [],
   "source": [
    "import pandas as pd\n",
    "import json"
   ]
  },
  {
   "cell_type": "code",
   "execution_count": 164,
   "metadata": {},
   "outputs": [
    {
     "name": "stdout",
     "output_type": "stream",
     "text": [
      "['de', 'la', 'que', 'el', 'en', 'y', 'a', 'los', 'del', 'se', 'las', 'por', 'un', 'para', 'con', 'no', 'una', 'su', 'al', 'lo', 'como', 'más', 'pero', 'sus', 'le', 'ya', 'o', 'este', 'sí', 'porque', 'esta', 'entre', 'cuando', 'muy', 'sin', 'sobre', 'también', 'me', 'hasta', 'hay', 'donde', 'quien', 'desde', 'todo', 'nos', 'durante', 'todos', 'uno', 'les', 'ni', 'contra', 'otros', 'ese', 'eso', 'ante', 'ellos', 'e', 'esto', 'mí', 'antes', 'algunos', 'qué', 'unos', 'yo', 'otro', 'otras', 'otra', 'él', 'tanto', 'esa', 'estos', 'mucho', 'quienes', 'nada', 'muchos', 'cual', 'poco', 'ella', 'estar', 'estas', 'algunas', 'algo', 'nosotros', 'mi', 'mis', 'tú', 'te', 'ti', 'tu', 'tus', 'ellas', 'nosotras', 'vosotros', 'vosotras', 'os', 'mío', 'mía', 'míos', 'mías', 'tuyo', 'tuya', 'tuyos', 'tuyas', 'suyo', 'suya', 'suyos', 'suyas', 'nuestro', 'nuestra', 'nuestros', 'nuestras', 'vuestro', 'vuestra', 'vuestros', 'vuestras', 'esos', 'esas', 'estoy', 'estás', 'está', 'estamos', 'estáis', 'están', 'esté', 'estés', 'estemos', 'estéis', 'estén', 'estaré', 'estarás', 'estará', 'estaremos', 'estaréis', 'estarán', 'estaría', 'estarías', 'estaríamos', 'estaríais', 'estarían', 'estaba', 'estabas', 'estábamos', 'estabais', 'estaban', 'estuve', 'estuviste', 'estuvo', 'estuvimos', 'estuvisteis', 'estuvieron', 'estuviera', 'estuvieras', 'estuviéramos', 'estuvierais', 'estuvieran', 'estuviese', 'estuvieses', 'estuviésemos', 'estuvieseis', 'estuviesen', 'estando', 'estado', 'estada', 'estados', 'estadas', 'estad', 'he', 'has', 'ha', 'hemos', 'habéis', 'han', 'haya', 'hayas', 'hayamos', 'hayáis', 'hayan', 'habré', 'habrás', 'habrá', 'habremos', 'habréis', 'habrán', 'habría', 'habrías', 'habríamos', 'habríais', 'habrían', 'había', 'habías', 'habíamos', 'habíais', 'habían', 'hube', 'hubiste', 'hubo', 'hubimos', 'hubisteis', 'hubieron', 'hubiera', 'hubieras', 'hubiéramos', 'hubierais', 'hubieran', 'hubiese', 'hubieses', 'hubiésemos', 'hubieseis', 'hubiesen', 'habiendo', 'habido', 'habida', 'habidos', 'habidas', 'soy', 'eres', 'es', 'somos', 'sois', 'son', 'sea', 'seas', 'seamos', 'seáis', 'sean', 'seré', 'serás', 'será', 'seremos', 'seréis', 'serán', 'sería', 'serías', 'seríamos', 'seríais', 'serían', 'era', 'eras', 'éramos', 'erais', 'eran', 'fui', 'fuiste', 'fue', 'fuimos', 'fuisteis', 'fueron', 'fuera', 'fueras', 'fuéramos', 'fuerais', 'fueran', 'fuese', 'fueses', 'fuésemos', 'fueseis', 'fuesen', 'sintiendo', 'sentido', 'sentida', 'sentidos', 'sentidas', 'siente', 'sentid', 'tengo', 'tienes', 'tiene', 'tenemos', 'tenéis', 'tienen', 'tenga', 'tengas', 'tengamos', 'tengáis', 'tengan', 'tendré', 'tendrás', 'tendrá', 'tendremos', 'tendréis', 'tendrán', 'tendría', 'tendrías', 'tendríamos', 'tendríais', 'tendrían', 'tenía', 'tenías', 'teníamos', 'teníais', 'tenían', 'tuve', 'tuviste', 'tuvo', 'tuvimos', 'tuvisteis', 'tuvieron', 'tuviera', 'tuvieras', 'tuviéramos', 'tuvierais', 'tuvieran', 'tuviese', 'tuvieses', 'tuviésemos', 'tuvieseis', 'tuviesen', 'teniendo', 'tenido', 'tenida', 'tenidos', 'tenidas', 'tened']\n"
     ]
    },
    {
     "name": "stderr",
     "output_type": "stream",
     "text": [
      "[nltk_data] Downloading package stopwords to\n",
      "[nltk_data]     C:\\Users\\user\\AppData\\Roaming\\nltk_data...\n",
      "[nltk_data]   Package stopwords is already up-to-date!\n"
     ]
    }
   ],
   "source": [
    "import nltk\n",
    "from nltk.corpus import stopwords\n",
    "\n",
    "# Download NLTK stop words for various languages\n",
    "nltk.download('stopwords')\n",
    "\n",
    "# Get stop words for Spanish\n",
    "spanish_stop_words = stopwords.words('spanish')\n",
    "\n",
    "print(spanish_stop_words)\n"
   ]
  },
  {
   "cell_type": "code",
   "execution_count": 165,
   "metadata": {},
   "outputs": [],
   "source": [
    "spanish_stop_words.extend([\n",
    "\"mas\",\n",
    "\"sino\",\n",
    "\"esten\",\n",
    "\"haber\",\n",
    "\"hecho\",\n",
    "\"si\",\n",
    "\"cuya\",\n",
    "\"siendo\",\n",
    "\"hacen\",\n",
    "\"unas\",\n",
    "\"unos\",\n",
    "\"sido\",\n",
    "\"estan\"])"
   ]
  },
  {
   "cell_type": "code",
   "execution_count": 166,
   "metadata": {},
   "outputs": [],
   "source": [
    "\n",
    "def load_json_from_path(file_path):\n",
    "    \"\"\"\n",
    "    Load JSON data from a file path.\n",
    "\n",
    "    Parameters:\n",
    "        file_path (str): The path to the JSON file.\n",
    "\n",
    "    Returns:\n",
    "        dict: The JSON data loaded from the file.\n",
    "    \"\"\"\n",
    "    with open(file_path, 'r', encoding=\"utf8\") as file:\n",
    "        json_data = json.load(file)\n",
    "    return json_data\n",
    "\n"
   ]
  },
  {
   "cell_type": "code",
   "execution_count": 167,
   "metadata": {},
   "outputs": [],
   "source": [
    "a1 = load_json_from_path('./data/article1.json')"
   ]
  },
  {
   "cell_type": "code",
   "execution_count": 168,
   "metadata": {},
   "outputs": [
    {
     "data": {
      "text/plain": [
       "[{'title': 'Petro y la lucha de clases / Columna de Felipe López Caballero',\n",
       "  'url': 'https://www.eltiempo.com/politica/gobierno/petro-y-la-lucha-de-clases-columna-de-felipe-lopez-caballero-3333631',\n",
       "  'content': ['La explicación está en la narrativa que Petro y sus redes sociales han creado. Según esta: 1) Colombia ha estado gobernada durante 200 años por unas élites corruptas interesadas solamente en enriquecerse y perpetuarse en el poder.',\n",
       "   '2) Con Petro llegaría el primer presidente de izquierda cuya preocupación son los pobres y la justicia social.',\n",
       "   '3) Los dueños de Colombia no estarían dispuestos a ceder sus privilegios ante un exguerrillero que busca el cambio.',\n",
       "   'Esa narrativa es simplista, efectista y dañina. Para comenzar, el problema no es que Petro sea un exguerrillero. Si el presidente fuera Antonio Navarro la economía estaría funcionando mejor y la polarización no estaría disparada. La mitad del estancamiento del PIB obedece a factores internacionales, pero la otra mitad tiene nombre propio. El problema es que Petro, un agitador político brillante, ha resultado un administrador incompetente con una personalidad paranoica y pendenciera y unos hábitos de trabajo extraños.',\n",
       "   'Su éxito se basó en haber hecho un diagnóstico acertado de las fallas del sistema. Sin embargo, sus soluciones siempre han estado enmarcadas en una óptica de lucha de clases poco realista y obsoleta. Petro tiene frente al sector privado una prevención cuasi marxista. Él cree que el capitalismo está fracasando. Tiene razón. Lo que no aclara es que el socialismo ya fracasó. ',\n",
       "   'Para él la oposición de la oligarquía es la razón por la cual el cambio que pide el pueblo está bloqueado. Ese es un planteamiento taquillero que siempre creerá la tercera parte de los colombianos. Pero no es verdad. Todos los presidentes creen que gobiernan para los pobres. No necesariamente porque los quieran, sino porque las personalidades que buscan el poder tienen algo de megalomanía y su prioridad es ante todo su lugar en la historia. Y ese veredicto lo da solamente el pueblo.',\n",
       "   'No es verdad que Petro sea el primer presidente de izquierda en la historia de Colombia. Mas transformador que este Gobierno pueden terminar siendo los de José Hilario López, Alfonso López Pumarejo, los dos Lleras y otros.',\n",
       "   'Tampoco es válida la teoría de que solo la izquierda gobierna para los pobres. Sin ir más lejos, según todas las encuestas, el presidente a quien más han querido los “nadies” en el último medio siglo ha sido Álvaro Uribe. Igualmente, el ministro que más ha hecho por los “nadies” en vivienda, acueducto, alcantarillado e infraestructura vial ha sido Germán Vargas. Y los dos son símbolos de la derecha en la actualidad.',\n",
       "   'Por lo tanto, la razón por la cual las reformas de Petro no están siendo aprobadas no es porque los críticos sean de derecha, ni porque estén financiados por los dueños de Colombia, ni porque los congresistas que votan en contra estén chantajeados por mermelada. La verdadera razón es porque después del entusiasmo inicial por el concepto abstracto del “cambio”, en el desarrollo del debate han salido a flote riesgos enormes en la mayoría de las propuestas del Gobierno.',\n",
       "   'Los defensores de intereses particulares sí se oponen a las reformas que los afectan. Pero no son estos los que han volteado a la opinión pública. Han sido más bien las opiniones de los expertos las que han alertado sobre sus posibles consecuencias. Las críticas que se le han hecho a la reforma de la salud, a la laboral, a la de pensiones y a otras, son contundentes.',\n",
       "   'En este momento en Colombia no hay un debate entre izquierda y derecha sino entre soñadores y realistas. Todos los economistas serios están de acuerdo en que la posición radical del Gobierno de no otorgar nuevas licencias de exploración compromete no solo el futuro energético del país sino su estabilidad económica. Igualmente, los conocedores del orden público consideran que la ‘paz total’ con su exceso de generosidad con toda clase de delincuentes puede acabar empeorando la seguridad actual.',\n",
       "   'Lo anterior no significa que los tecnócratas siempre tengan la razón. Petro ha estudiado los problemas del país y no puede estar equivocado en todo. Sin embargo, la mayoría de sus críticos tiene credibilidad por la experiencia que han acumulado manejando los problemas del país tanto del sector público como del privado. Cuando personas como Mauricio Cárdenas, Alejandro Gaviria, Juan Carlos Echeverry, Juan Camilo Restrepo, Salomón Kalmanovitz, Mauricio Cabrera, Cecilia López y muchos otros opinan, no lo hacen porque estén al servicio de los grandes intereses privados. Lo hacen porque están preocupados por el futuro de los “nadies” y del país. Eso es lo que nunca ha podido entender Gustavo Petro.']}]"
      ]
     },
     "execution_count": 168,
     "metadata": {},
     "output_type": "execute_result"
    }
   ],
   "source": [
    "a1"
   ]
  },
  {
   "cell_type": "code",
   "execution_count": 169,
   "metadata": {},
   "outputs": [],
   "source": [
    "import re\n",
    "from unidecode import unidecode\n",
    "\n",
    "def preprocess_text(text):\n",
    "    \n",
    "    text = unidecode(text) # Remove accents \n",
    "    text = re.sub(r'[^a-zA-Z\\s]', '', text.lower()) # Remove punctuation and convert to lowercase\n",
    "\n",
    "    return text\n",
    "\n",
    "def remove_stop_words(text, custom_stop_words):\n",
    "    \"\"\"\n",
    "    Remove custom stop words from the input text.\n",
    "\n",
    "    Args:\n",
    "        text (str): Input text.\n",
    "        custom_stop_words (list): List of custom stop words to be removed.\n",
    "\n",
    "    Returns:\n",
    "        str: Text with custom stop words removed.\n",
    "    \"\"\"\n",
    "    stop_words = set(custom_stop_words)\n",
    "    return ' '.join(word for word in text.split() if word.lower() not in stop_words)"
   ]
  },
  {
   "cell_type": "code",
   "execution_count": 170,
   "metadata": {},
   "outputs": [],
   "source": [
    "documents = a1[0]['content']"
   ]
  },
  {
   "cell_type": "code",
   "execution_count": 171,
   "metadata": {},
   "outputs": [],
   "source": [
    "documents = [remove_stop_words(preprocess_text(d),spanish_stop_words) for d in documents]"
   ]
  },
  {
   "cell_type": "code",
   "execution_count": 172,
   "metadata": {},
   "outputs": [
    {
     "data": {
      "text/plain": [
       "['explicacion narrativa petro redes sociales creado segun colombia gobernada anos elites corruptas interesadas solamente enriquecerse perpetuarse poder',\n",
       " 'petro llegaria primer presidente izquierda preocupacion pobres justicia social',\n",
       " 'duenos colombia estarian dispuestos ceder privilegios exguerrillero busca cambio',\n",
       " 'narrativa simplista efectista danina comenzar problema petro exguerrillero presidente antonio navarro economia estaria funcionando mejor polarizacion estaria disparada mitad estancamiento pib obedece factores internacionales mitad nombre propio problema petro agitador politico brillante resultado administrador incompetente personalidad paranoica pendenciera habitos trabajo extranos',\n",
       " 'exito baso diagnostico acertado fallas sistema embargo soluciones siempre enmarcadas optica lucha clases realista obsoleta petro frente sector privado prevencion cuasi marxista cree capitalismo fracasando razon aclara socialismo fracaso',\n",
       " 'oposicion oligarquia razon cambio pide pueblo bloqueado planteamiento taquillero siempre creera tercera parte colombianos verdad presidentes creen gobiernan pobres necesariamente quieran personalidades buscan poder megalomania prioridad lugar historia veredicto da solamente pueblo',\n",
       " 'verdad petro primer presidente izquierda historia colombia transformador gobierno pueden terminar jose hilario lopez alfonso lopez pumarejo dos lleras',\n",
       " 'tampoco valida teoria solo izquierda gobierna pobres ir lejos segun todas encuestas presidente querido nadies ultimo medio siglo alvaro uribe igualmente ministro nadies vivienda acueducto alcantarillado infraestructura vial german vargas dos simbolos derecha actualidad',\n",
       " 'razon reformas petro aprobadas criticos derecha financiados duenos colombia congresistas votan chantajeados mermelada verdadera razon despues entusiasmo inicial concepto abstracto cambio desarrollo debate salido flote riesgos enormes mayoria propuestas gobierno',\n",
       " 'defensores intereses particulares oponen reformas afectan volteado opinion publica bien opiniones expertos alertado posibles consecuencias criticas reforma salud laboral pensiones contundentes',\n",
       " 'momento colombia debate izquierda derecha sonadores realistas economistas serios acuerdo posicion radical gobierno otorgar nuevas licencias exploracion compromete solo futuro energetico pais estabilidad economica igualmente conocedores orden publico consideran paz total exceso generosidad toda clase delincuentes puede acabar empeorando seguridad actual',\n",
       " 'anterior significa tecnocratas siempre razon petro estudiado problemas pais puede equivocado embargo mayoria criticos credibilidad experiencia acumulado manejando problemas pais sector publico privado personas mauricio cardenas alejandro gaviria juan carlos echeverry juan camilo restrepo salomon kalmanovitz mauricio cabrera cecilia lopez opinan servicio grandes intereses privados preocupados futuro nadies pais nunca podido entender gustavo petro']"
      ]
     },
     "execution_count": 172,
     "metadata": {},
     "output_type": "execute_result"
    }
   ],
   "source": [
    "documents"
   ]
  },
  {
   "cell_type": "code",
   "execution_count": 173,
   "metadata": {},
   "outputs": [],
   "source": [
    "import numpy as np\n",
    "from sklearn.feature_extraction.text import CountVectorizer\n",
    "\n",
    "\n",
    "# Initialize CountVectorizer\n",
    "vectorizer = CountVectorizer(stop_words=spanish_stop_words)\n",
    "\n",
    "# Fit and transform the documents\n",
    "X = vectorizer.fit_transform(documents)\n"
   ]
  },
  {
   "cell_type": "code",
   "execution_count": 174,
   "metadata": {},
   "outputs": [
    {
     "data": {
      "text/plain": [
       "array(['abstracto', 'acabar', 'acertado', 'aclara', 'actual',\n",
       "       'actualidad', 'acueducto', 'acuerdo', 'acumulado', 'administrador',\n",
       "       'afectan', 'agitador', 'alcantarillado', 'alejandro', 'alertado',\n",
       "       'alfonso', 'alvaro', 'anos', 'anterior', 'antonio', 'aprobadas',\n",
       "       'baso', 'bien', 'bloqueado', 'brillante', 'busca', 'buscan',\n",
       "       'cabrera', 'cambio', 'camilo', 'capitalismo', 'cardenas', 'carlos',\n",
       "       'cecilia', 'ceder', 'chantajeados', 'clase', 'clases', 'colombia',\n",
       "       'colombianos', 'comenzar', 'compromete', 'concepto',\n",
       "       'congresistas', 'conocedores', 'consecuencias', 'consideran',\n",
       "       'contundentes', 'corruptas', 'creado', 'credibilidad', 'cree',\n",
       "       'creen', 'creera', 'criticas', 'criticos', 'cuasi', 'da', 'danina',\n",
       "       'debate', 'defensores', 'delincuentes', 'derecha', 'desarrollo',\n",
       "       'despues', 'diagnostico', 'disparada', 'dispuestos', 'dos',\n",
       "       'duenos', 'echeverry', 'economia', 'economica', 'economistas',\n",
       "       'efectista', 'elites', 'embargo', 'empeorando', 'encuestas',\n",
       "       'energetico', 'enmarcadas', 'enormes', 'enriquecerse', 'entender',\n",
       "       'entusiasmo', 'equivocado', 'estabilidad', 'estancamiento',\n",
       "       'estaria', 'estarian', 'estudiado', 'exceso', 'exguerrillero',\n",
       "       'exito', 'experiencia', 'expertos', 'explicacion', 'exploracion',\n",
       "       'extranos', 'factores', 'fallas', 'financiados', 'flote',\n",
       "       'fracasando', 'fracaso', 'frente', 'funcionando', 'futuro',\n",
       "       'gaviria', 'generosidad', 'german', 'gobernada', 'gobierna',\n",
       "       'gobiernan', 'gobierno', 'grandes', 'gustavo', 'habitos',\n",
       "       'hilario', 'historia', 'igualmente', 'incompetente',\n",
       "       'infraestructura', 'inicial', 'interesadas', 'intereses',\n",
       "       'internacionales', 'ir', 'izquierda', 'jose', 'juan', 'justicia',\n",
       "       'kalmanovitz', 'laboral', 'lejos', 'licencias', 'llegaria',\n",
       "       'lleras', 'lopez', 'lucha', 'lugar', 'manejando', 'marxista',\n",
       "       'mauricio', 'mayoria', 'medio', 'megalomania', 'mejor',\n",
       "       'mermelada', 'ministro', 'mitad', 'momento', 'nadies', 'narrativa',\n",
       "       'navarro', 'necesariamente', 'nombre', 'nuevas', 'nunca',\n",
       "       'obedece', 'obsoleta', 'oligarquia', 'opinan', 'opinion',\n",
       "       'opiniones', 'oponen', 'oposicion', 'optica', 'orden', 'otorgar',\n",
       "       'pais', 'paranoica', 'parte', 'particulares', 'paz', 'pendenciera',\n",
       "       'pensiones', 'perpetuarse', 'personalidad', 'personalidades',\n",
       "       'personas', 'petro', 'pib', 'pide', 'planteamiento', 'pobres',\n",
       "       'poder', 'podido', 'polarizacion', 'politico', 'posibles',\n",
       "       'posicion', 'preocupacion', 'preocupados', 'presidente',\n",
       "       'presidentes', 'prevencion', 'primer', 'prioridad', 'privado',\n",
       "       'privados', 'privilegios', 'problema', 'problemas', 'propio',\n",
       "       'propuestas', 'publica', 'publico', 'pueblo', 'puede', 'pueden',\n",
       "       'pumarejo', 'querido', 'quieran', 'radical', 'razon', 'realista',\n",
       "       'realistas', 'redes', 'reforma', 'reformas', 'restrepo',\n",
       "       'resultado', 'riesgos', 'salido', 'salomon', 'salud', 'sector',\n",
       "       'segun', 'seguridad', 'serios', 'servicio', 'siempre', 'siglo',\n",
       "       'significa', 'simbolos', 'simplista', 'sistema', 'social',\n",
       "       'sociales', 'socialismo', 'solamente', 'solo', 'soluciones',\n",
       "       'sonadores', 'tampoco', 'taquillero', 'tecnocratas', 'teoria',\n",
       "       'tercera', 'terminar', 'toda', 'todas', 'total', 'trabajo',\n",
       "       'transformador', 'ultimo', 'uribe', 'valida', 'vargas', 'verdad',\n",
       "       'verdadera', 'veredicto', 'vial', 'vivienda', 'volteado', 'votan'],\n",
       "      dtype=object)"
      ]
     },
     "execution_count": 174,
     "metadata": {},
     "output_type": "execute_result"
    }
   ],
   "source": [
    "vectorizer.get_feature_names_out()"
   ]
  },
  {
   "cell_type": "code",
   "execution_count": 157,
   "metadata": {},
   "outputs": [],
   "source": [
    "def generate_pairs(text):\n",
    "    words = text.split()\n",
    "    pairs = []\n",
    "    for i in range(len(words) - 1):\n",
    "        pairs.append(words[i]+\" \"+words[i+1])\n",
    "    return pairs"
   ]
  },
  {
   "cell_type": "code",
   "execution_count": 158,
   "metadata": {},
   "outputs": [
    {
     "name": "stdout",
     "output_type": "stream",
     "text": [
      "['explicacion narrativa', 'narrativa petro', 'petro redes', 'redes sociales', 'sociales creado', 'creado segun', 'segun colombia', 'colombia gobernada', 'gobernada anos', 'anos elites', 'elites corruptas', 'corruptas interesadas', 'interesadas solamente', 'solamente enriquecerse', 'enriquecerse perpetuarse', 'perpetuarse poder', 'petro llegaria', 'llegaria primer', 'primer presidente', 'presidente izquierda', 'izquierda preocupacion', 'preocupacion pobres', 'pobres justicia', 'justicia social', 'duenos colombia', 'colombia estarian', 'estarian dispuestos', 'dispuestos ceder', 'ceder privilegios', 'privilegios exguerrillero', 'exguerrillero busca', 'busca cambio', 'narrativa simplista', 'simplista efectista', 'efectista danina', 'danina comenzar', 'comenzar problema', 'problema petro', 'petro exguerrillero', 'exguerrillero presidente', 'presidente antonio', 'antonio navarro', 'navarro economia', 'economia estaria', 'estaria funcionando', 'funcionando mejor', 'mejor polarizacion', 'polarizacion estaria', 'estaria disparada', 'disparada mitad', 'mitad estancamiento', 'estancamiento pib', 'pib obedece', 'obedece factores', 'factores internacionales', 'internacionales mitad', 'mitad nombre', 'nombre propio', 'propio problema', 'problema petro', 'petro agitador', 'agitador politico', 'politico brillante', 'brillante resultado', 'resultado administrador', 'administrador incompetente', 'incompetente personalidad', 'personalidad paranoica', 'paranoica pendenciera', 'pendenciera habitos', 'habitos trabajo', 'trabajo extranos', 'exito baso', 'baso diagnostico', 'diagnostico acertado', 'acertado fallas', 'fallas sistema', 'sistema embargo', 'embargo soluciones', 'soluciones siempre', 'siempre enmarcadas', 'enmarcadas optica', 'optica lucha', 'lucha clases', 'clases realista', 'realista obsoleta', 'obsoleta petro', 'petro frente', 'frente sector', 'sector privado', 'privado prevencion', 'prevencion cuasi', 'cuasi marxista', 'marxista cree', 'cree capitalismo', 'capitalismo fracasando', 'fracasando razon', 'razon aclara', 'aclara socialismo', 'socialismo fracaso', 'oposicion oligarquia', 'oligarquia razon', 'razon cambio', 'cambio pide', 'pide pueblo', 'pueblo bloqueado', 'bloqueado planteamiento', 'planteamiento taquillero', 'taquillero siempre', 'siempre creera', 'creera tercera', 'tercera parte', 'parte colombianos', 'colombianos verdad', 'verdad presidentes', 'presidentes creen', 'creen gobiernan', 'gobiernan pobres', 'pobres necesariamente', 'necesariamente quieran', 'quieran personalidades', 'personalidades buscan', 'buscan poder', 'poder megalomania', 'megalomania prioridad', 'prioridad lugar', 'lugar historia', 'historia veredicto', 'veredicto da', 'da solamente', 'solamente pueblo', 'verdad petro', 'petro primer', 'primer presidente', 'presidente izquierda', 'izquierda historia', 'historia colombia', 'colombia transformador', 'transformador gobierno', 'gobierno pueden', 'pueden terminar', 'terminar jose', 'jose hilario', 'hilario lopez', 'lopez alfonso', 'alfonso lopez', 'lopez pumarejo', 'pumarejo dos', 'dos lleras', 'tampoco valida', 'valida teoria', 'teoria solo', 'solo izquierda', 'izquierda gobierna', 'gobierna pobres', 'pobres ir', 'ir lejos', 'lejos segun', 'segun todas', 'todas encuestas', 'encuestas presidente', 'presidente querido', 'querido nadies', 'nadies ultimo', 'ultimo medio', 'medio siglo', 'siglo sido', 'sido alvaro', 'alvaro uribe', 'uribe igualmente', 'igualmente ministro', 'ministro nadies', 'nadies vivienda', 'vivienda acueducto', 'acueducto alcantarillado', 'alcantarillado infraestructura', 'infraestructura vial', 'vial sido', 'sido german', 'german vargas', 'vargas dos', 'dos simbolos', 'simbolos derecha', 'derecha actualidad', 'razon reformas', 'reformas petro', 'petro estan', 'estan aprobadas', 'aprobadas criticos', 'criticos derecha', 'derecha financiados', 'financiados duenos', 'duenos colombia', 'colombia congresistas', 'congresistas votan', 'votan chantajeados', 'chantajeados mermelada', 'mermelada verdadera', 'verdadera razon', 'razon despues', 'despues entusiasmo', 'entusiasmo inicial', 'inicial concepto', 'concepto abstracto', 'abstracto cambio', 'cambio desarrollo', 'desarrollo debate', 'debate salido', 'salido flote', 'flote riesgos', 'riesgos enormes', 'enormes mayoria', 'mayoria propuestas', 'propuestas gobierno', 'defensores intereses', 'intereses particulares', 'particulares oponen', 'oponen reformas', 'reformas afectan', 'afectan volteado', 'volteado opinion', 'opinion publica', 'publica sido', 'sido bien', 'bien opiniones', 'opiniones expertos', 'expertos alertado', 'alertado posibles', 'posibles consecuencias', 'consecuencias criticas', 'criticas reforma', 'reforma salud', 'salud laboral', 'laboral pensiones', 'pensiones contundentes', 'momento colombia', 'colombia debate', 'debate izquierda', 'izquierda derecha', 'derecha sonadores', 'sonadores realistas', 'realistas economistas', 'economistas serios', 'serios estan', 'estan acuerdo', 'acuerdo posicion', 'posicion radical', 'radical gobierno', 'gobierno otorgar', 'otorgar nuevas', 'nuevas licencias', 'licencias exploracion', 'exploracion compromete', 'compromete solo', 'solo futuro', 'futuro energetico', 'energetico pais', 'pais estabilidad', 'estabilidad economica', 'economica igualmente', 'igualmente conocedores', 'conocedores orden', 'orden publico', 'publico consideran', 'consideran paz', 'paz total', 'total exceso', 'exceso generosidad', 'generosidad toda', 'toda clase', 'clase delincuentes', 'delincuentes puede', 'puede acabar', 'acabar empeorando', 'empeorando seguridad', 'seguridad actual', 'anterior significa', 'significa tecnocratas', 'tecnocratas siempre', 'siempre razon', 'razon petro', 'petro estudiado', 'estudiado problemas', 'problemas pais', 'pais puede', 'puede equivocado', 'equivocado embargo', 'embargo mayoria', 'mayoria criticos', 'criticos credibilidad', 'credibilidad experiencia', 'experiencia acumulado', 'acumulado manejando', 'manejando problemas', 'problemas pais', 'pais sector', 'sector publico', 'publico privado', 'privado personas', 'personas mauricio', 'mauricio cardenas', 'cardenas alejandro', 'alejandro gaviria', 'gaviria juan', 'juan carlos', 'carlos echeverry', 'echeverry juan', 'juan camilo', 'camilo restrepo', 'restrepo salomon', 'salomon kalmanovitz', 'kalmanovitz mauricio', 'mauricio cabrera', 'cabrera cecilia', 'cecilia lopez', 'lopez opinan', 'opinan servicio', 'servicio grandes', 'grandes intereses', 'intereses privados', 'privados estan', 'estan preocupados', 'preocupados futuro', 'futuro nadies', 'nadies pais', 'pais nunca', 'nunca podido', 'podido entender', 'entender gustavo', 'gustavo petro']\n"
     ]
    }
   ],
   "source": [
    "docs_pairs = []\n",
    "\n",
    "# Generate pairs after removing stop words for each document\n",
    "docs_pairs.extend([pair for d in documents for pair in generate_pairs(remove_stop_words(d, stop_words))])\n",
    "\n",
    "print(docs_pairs)"
   ]
  },
  {
   "cell_type": "code",
   "execution_count": 175,
   "metadata": {},
   "outputs": [],
   "source": [
    "encoding = vectorizer.transform(docs_pairs).toarray()\n",
    "co_ocurrences = encoding.T@encoding\n",
    "\n",
    "names = vectorizer.get_feature_names_out().tolist()\n",
    "\n",
    "np.fill_diagonal(co_ocurrences, 0)\n",
    "\n",
    "co_ocurrences_df = pd.DataFrame(co_ocurrences, index=names, columns=names)"
   ]
  },
  {
   "cell_type": "code",
   "execution_count": 177,
   "metadata": {},
   "outputs": [
    {
     "data": {
      "text/plain": [
       "petro         15\n",
       "colombia      10\n",
       "razon          9\n",
       "pais           8\n",
       "izquierda      8\n",
       "presidente     8\n",
       "nadies         6\n",
       "lopez          6\n",
       "siempre        6\n",
       "derecha        6\n",
       "pobres         6\n",
       "dtype: int64"
      ]
     },
     "execution_count": 177,
     "metadata": {},
     "output_type": "execute_result"
    }
   ],
   "source": [
    "top_matches = co_ocurrences_df.sum(axis=1).sort_values(ascending=False).head(11)\n",
    "top_matches"
   ]
  },
  {
   "cell_type": "code",
   "execution_count": 183,
   "metadata": {},
   "outputs": [
    {
     "data": {
      "text/plain": [
       "problema         2\n",
       "agitador         1\n",
       "estudiado        1\n",
       "exguerrillero    1\n",
       "frente           1\n",
       "gustavo          1\n",
       "llegaria         1\n",
       "narrativa        1\n",
       "obsoleta         1\n",
       "primer           1\n",
       "razon            1\n",
       "redes            1\n",
       "reformas         1\n",
       "verdad           1\n",
       "Name: petro, dtype: int64"
      ]
     },
     "execution_count": 183,
     "metadata": {},
     "output_type": "execute_result"
    }
   ],
   "source": [
    "co_ocurrences_df[co_ocurrences_df['petro']!=0]['petro'].sort_values(ascending=False)"
   ]
  },
  {
   "cell_type": "code",
   "execution_count": 161,
   "metadata": {},
   "outputs": [
    {
     "data": {
      "text/html": [
       "<div>\n",
       "<style scoped>\n",
       "    .dataframe tbody tr th:only-of-type {\n",
       "        vertical-align: middle;\n",
       "    }\n",
       "\n",
       "    .dataframe tbody tr th {\n",
       "        vertical-align: top;\n",
       "    }\n",
       "\n",
       "    .dataframe thead th {\n",
       "        text-align: right;\n",
       "    }\n",
       "</style>\n",
       "<table border=\"1\" class=\"dataframe\">\n",
       "  <thead>\n",
       "    <tr style=\"text-align: right;\">\n",
       "      <th></th>\n",
       "      <th>petro</th>\n",
       "      <th>colombia</th>\n",
       "      <th>razon</th>\n",
       "      <th>presidente</th>\n",
       "      <th>izquierda</th>\n",
       "      <th>pais</th>\n",
       "      <th>siempre</th>\n",
       "      <th>derecha</th>\n",
       "      <th>nadies</th>\n",
       "      <th>pobres</th>\n",
       "    </tr>\n",
       "  </thead>\n",
       "  <tbody>\n",
       "    <tr>\n",
       "      <th>petro</th>\n",
       "      <td>0</td>\n",
       "      <td>0</td>\n",
       "      <td>1</td>\n",
       "      <td>0</td>\n",
       "      <td>0</td>\n",
       "      <td>0</td>\n",
       "      <td>0</td>\n",
       "      <td>0</td>\n",
       "      <td>0</td>\n",
       "      <td>0</td>\n",
       "    </tr>\n",
       "    <tr>\n",
       "      <th>colombia</th>\n",
       "      <td>0</td>\n",
       "      <td>0</td>\n",
       "      <td>0</td>\n",
       "      <td>0</td>\n",
       "      <td>0</td>\n",
       "      <td>0</td>\n",
       "      <td>0</td>\n",
       "      <td>0</td>\n",
       "      <td>0</td>\n",
       "      <td>0</td>\n",
       "    </tr>\n",
       "    <tr>\n",
       "      <th>razon</th>\n",
       "      <td>1</td>\n",
       "      <td>0</td>\n",
       "      <td>0</td>\n",
       "      <td>0</td>\n",
       "      <td>0</td>\n",
       "      <td>0</td>\n",
       "      <td>1</td>\n",
       "      <td>0</td>\n",
       "      <td>0</td>\n",
       "      <td>0</td>\n",
       "    </tr>\n",
       "    <tr>\n",
       "      <th>presidente</th>\n",
       "      <td>0</td>\n",
       "      <td>0</td>\n",
       "      <td>0</td>\n",
       "      <td>0</td>\n",
       "      <td>2</td>\n",
       "      <td>0</td>\n",
       "      <td>0</td>\n",
       "      <td>0</td>\n",
       "      <td>0</td>\n",
       "      <td>0</td>\n",
       "    </tr>\n",
       "    <tr>\n",
       "      <th>izquierda</th>\n",
       "      <td>0</td>\n",
       "      <td>0</td>\n",
       "      <td>0</td>\n",
       "      <td>2</td>\n",
       "      <td>0</td>\n",
       "      <td>0</td>\n",
       "      <td>0</td>\n",
       "      <td>1</td>\n",
       "      <td>0</td>\n",
       "      <td>0</td>\n",
       "    </tr>\n",
       "    <tr>\n",
       "      <th>pais</th>\n",
       "      <td>0</td>\n",
       "      <td>0</td>\n",
       "      <td>0</td>\n",
       "      <td>0</td>\n",
       "      <td>0</td>\n",
       "      <td>0</td>\n",
       "      <td>0</td>\n",
       "      <td>0</td>\n",
       "      <td>1</td>\n",
       "      <td>0</td>\n",
       "    </tr>\n",
       "    <tr>\n",
       "      <th>siempre</th>\n",
       "      <td>0</td>\n",
       "      <td>0</td>\n",
       "      <td>1</td>\n",
       "      <td>0</td>\n",
       "      <td>0</td>\n",
       "      <td>0</td>\n",
       "      <td>0</td>\n",
       "      <td>0</td>\n",
       "      <td>0</td>\n",
       "      <td>0</td>\n",
       "    </tr>\n",
       "    <tr>\n",
       "      <th>derecha</th>\n",
       "      <td>0</td>\n",
       "      <td>0</td>\n",
       "      <td>0</td>\n",
       "      <td>0</td>\n",
       "      <td>1</td>\n",
       "      <td>0</td>\n",
       "      <td>0</td>\n",
       "      <td>0</td>\n",
       "      <td>0</td>\n",
       "      <td>0</td>\n",
       "    </tr>\n",
       "    <tr>\n",
       "      <th>nadies</th>\n",
       "      <td>0</td>\n",
       "      <td>0</td>\n",
       "      <td>0</td>\n",
       "      <td>0</td>\n",
       "      <td>0</td>\n",
       "      <td>1</td>\n",
       "      <td>0</td>\n",
       "      <td>0</td>\n",
       "      <td>0</td>\n",
       "      <td>0</td>\n",
       "    </tr>\n",
       "    <tr>\n",
       "      <th>pobres</th>\n",
       "      <td>0</td>\n",
       "      <td>0</td>\n",
       "      <td>0</td>\n",
       "      <td>0</td>\n",
       "      <td>0</td>\n",
       "      <td>0</td>\n",
       "      <td>0</td>\n",
       "      <td>0</td>\n",
       "      <td>0</td>\n",
       "      <td>0</td>\n",
       "    </tr>\n",
       "  </tbody>\n",
       "</table>\n",
       "</div>"
      ],
      "text/plain": [
       "            petro  colombia  razon  presidente  izquierda  pais  siempre  \\\n",
       "petro           0         0      1           0          0     0        0   \n",
       "colombia        0         0      0           0          0     0        0   \n",
       "razon           1         0      0           0          0     0        1   \n",
       "presidente      0         0      0           0          2     0        0   \n",
       "izquierda       0         0      0           2          0     0        0   \n",
       "pais            0         0      0           0          0     0        0   \n",
       "siempre         0         0      1           0          0     0        0   \n",
       "derecha         0         0      0           0          1     0        0   \n",
       "nadies          0         0      0           0          0     1        0   \n",
       "pobres          0         0      0           0          0     0        0   \n",
       "\n",
       "            derecha  nadies  pobres  \n",
       "petro             0       0       0  \n",
       "colombia          0       0       0  \n",
       "razon             0       0       0  \n",
       "presidente        0       0       0  \n",
       "izquierda         1       0       0  \n",
       "pais              0       1       0  \n",
       "siempre           0       0       0  \n",
       "derecha           0       0       0  \n",
       "nadies            0       0       0  \n",
       "pobres            0       0       0  "
      ]
     },
     "execution_count": 161,
     "metadata": {},
     "output_type": "execute_result"
    }
   ],
   "source": [
    "co_ocurrences_df.loc[top_matches.index,top_matches.index]"
   ]
  },
  {
   "cell_type": "code",
   "execution_count": 130,
   "metadata": {},
   "outputs": [
    {
     "data": {
      "text/plain": [
       "Index(['petro', 'mas', 'colombia', 'razon', 'pais', 'presidente', 'izquierda',\n",
       "       'sino', 'esten', 'pobres'],\n",
       "      dtype='object')"
      ]
     },
     "execution_count": 130,
     "metadata": {},
     "output_type": "execute_result"
    }
   ],
   "source": []
  }
 ],
 "metadata": {
  "kernelspec": {
   "display_name": "network_science-J3mh9D9T",
   "language": "python",
   "name": "python3"
  },
  "language_info": {
   "codemirror_mode": {
    "name": "ipython",
    "version": 3
   },
   "file_extension": ".py",
   "mimetype": "text/x-python",
   "name": "python",
   "nbconvert_exporter": "python",
   "pygments_lexer": "ipython3",
   "version": "3.11.2"
  }
 },
 "nbformat": 4,
 "nbformat_minor": 2
}
