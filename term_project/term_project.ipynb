{
 "cells": [
  {
   "cell_type": "code",
   "execution_count": 1,
   "metadata": {},
   "outputs": [],
   "source": [
    "import pandas as pd\n",
    "import json"
   ]
  },
  {
   "cell_type": "code",
   "execution_count": 2,
   "metadata": {},
   "outputs": [],
   "source": [
    "import spacy\n",
    "\n",
    "# Load the medium-sized Spanish model\n",
    "nlp = spacy.load('es_core_news_lg')"
   ]
  },
  {
   "cell_type": "code",
   "execution_count": 3,
   "metadata": {},
   "outputs": [
    {
     "name": "stdout",
     "output_type": "stream",
     "text": [
      "['de', 'la', 'que', 'el', 'en', 'y', 'a', 'los', 'del', 'se', 'las', 'por', 'un', 'para', 'con', 'no', 'una', 'su', 'al', 'lo', 'como', 'más', 'pero', 'sus', 'le', 'ya', 'o', 'este', 'sí', 'porque', 'esta', 'entre', 'cuando', 'muy', 'sin', 'sobre', 'también', 'me', 'hasta', 'hay', 'donde', 'quien', 'desde', 'todo', 'nos', 'durante', 'todos', 'uno', 'les', 'ni', 'contra', 'otros', 'ese', 'eso', 'ante', 'ellos', 'e', 'esto', 'mí', 'antes', 'algunos', 'qué', 'unos', 'yo', 'otro', 'otras', 'otra', 'él', 'tanto', 'esa', 'estos', 'mucho', 'quienes', 'nada', 'muchos', 'cual', 'poco', 'ella', 'estar', 'estas', 'algunas', 'algo', 'nosotros', 'mi', 'mis', 'tú', 'te', 'ti', 'tu', 'tus', 'ellas', 'nosotras', 'vosotros', 'vosotras', 'os', 'mío', 'mía', 'míos', 'mías', 'tuyo', 'tuya', 'tuyos', 'tuyas', 'suyo', 'suya', 'suyos', 'suyas', 'nuestro', 'nuestra', 'nuestros', 'nuestras', 'vuestro', 'vuestra', 'vuestros', 'vuestras', 'esos', 'esas', 'estoy', 'estás', 'está', 'estamos', 'estáis', 'están', 'esté', 'estés', 'estemos', 'estéis', 'estén', 'estaré', 'estarás', 'estará', 'estaremos', 'estaréis', 'estarán', 'estaría', 'estarías', 'estaríamos', 'estaríais', 'estarían', 'estaba', 'estabas', 'estábamos', 'estabais', 'estaban', 'estuve', 'estuviste', 'estuvo', 'estuvimos', 'estuvisteis', 'estuvieron', 'estuviera', 'estuvieras', 'estuviéramos', 'estuvierais', 'estuvieran', 'estuviese', 'estuvieses', 'estuviésemos', 'estuvieseis', 'estuviesen', 'estando', 'estado', 'estada', 'estados', 'estadas', 'estad', 'he', 'has', 'ha', 'hemos', 'habéis', 'han', 'haya', 'hayas', 'hayamos', 'hayáis', 'hayan', 'habré', 'habrás', 'habrá', 'habremos', 'habréis', 'habrán', 'habría', 'habrías', 'habríamos', 'habríais', 'habrían', 'había', 'habías', 'habíamos', 'habíais', 'habían', 'hube', 'hubiste', 'hubo', 'hubimos', 'hubisteis', 'hubieron', 'hubiera', 'hubieras', 'hubiéramos', 'hubierais', 'hubieran', 'hubiese', 'hubieses', 'hubiésemos', 'hubieseis', 'hubiesen', 'habiendo', 'habido', 'habida', 'habidos', 'habidas', 'soy', 'eres', 'es', 'somos', 'sois', 'son', 'sea', 'seas', 'seamos', 'seáis', 'sean', 'seré', 'serás', 'será', 'seremos', 'seréis', 'serán', 'sería', 'serías', 'seríamos', 'seríais', 'serían', 'era', 'eras', 'éramos', 'erais', 'eran', 'fui', 'fuiste', 'fue', 'fuimos', 'fuisteis', 'fueron', 'fuera', 'fueras', 'fuéramos', 'fuerais', 'fueran', 'fuese', 'fueses', 'fuésemos', 'fueseis', 'fuesen', 'sintiendo', 'sentido', 'sentida', 'sentidos', 'sentidas', 'siente', 'sentid', 'tengo', 'tienes', 'tiene', 'tenemos', 'tenéis', 'tienen', 'tenga', 'tengas', 'tengamos', 'tengáis', 'tengan', 'tendré', 'tendrás', 'tendrá', 'tendremos', 'tendréis', 'tendrán', 'tendría', 'tendrías', 'tendríamos', 'tendríais', 'tendrían', 'tenía', 'tenías', 'teníamos', 'teníais', 'tenían', 'tuve', 'tuviste', 'tuvo', 'tuvimos', 'tuvisteis', 'tuvieron', 'tuviera', 'tuvieras', 'tuviéramos', 'tuvierais', 'tuvieran', 'tuviese', 'tuvieses', 'tuviésemos', 'tuvieseis', 'tuviesen', 'teniendo', 'tenido', 'tenida', 'tenidos', 'tenidas', 'tened']\n"
     ]
    },
    {
     "name": "stderr",
     "output_type": "stream",
     "text": [
      "[nltk_data] Downloading package stopwords to\n",
      "[nltk_data]     C:\\Users\\user\\AppData\\Roaming\\nltk_data...\n",
      "[nltk_data]   Package stopwords is already up-to-date!\n"
     ]
    }
   ],
   "source": [
    "import nltk\n",
    "from nltk.corpus import stopwords\n",
    "\n",
    "# Download NLTK stop words for various languages\n",
    "nltk.download('stopwords')\n",
    "\n",
    "# Get stop words for Spanish\n",
    "spanish_stop_words = stopwords.words('spanish')\n",
    "\n",
    "print(spanish_stop_words)\n"
   ]
  },
  {
   "cell_type": "code",
   "execution_count": 15,
   "metadata": {},
   "outputs": [],
   "source": [
    "spanish_stop_words.extend([\n",
    "\"mas\",\n",
    "\"sino\",\n",
    "\"esten\",\n",
    "\"haber\",\n",
    "\"hecho\",\n",
    "\"si\",\n",
    "\"cuya\",\n",
    "\"siendo\",\n",
    "\"hacen\",\n",
    "\"unas\",\n",
    "\"unos\",\n",
    "\"sido\",\n",
    "\"estan\",\n",
    "\"ser\",\n",
    "\"cuyo\",\n",
    "\"hacer\",\n",
    "\"poder\"\n",
    "])"
   ]
  },
  {
   "cell_type": "code",
   "execution_count": 17,
   "metadata": {},
   "outputs": [],
   "source": [
    "\n",
    "def load_json_from_path(file_path):\n",
    "    \"\"\"\n",
    "    Load JSON data from a file path.\n",
    "\n",
    "    Parameters:\n",
    "        file_path (str): The path to the JSON file.\n",
    "\n",
    "    Returns:\n",
    "        dict: The JSON data loaded from the file.\n",
    "    \"\"\"\n",
    "    with open(file_path, 'r', encoding=\"utf8\") as file:\n",
    "        json_data = json.load(file)\n",
    "    return json_data\n",
    "\n"
   ]
  },
  {
   "cell_type": "code",
   "execution_count": 18,
   "metadata": {},
   "outputs": [],
   "source": [
    "a1 = load_json_from_path('./data/article1.json')"
   ]
  },
  {
   "cell_type": "code",
   "execution_count": 19,
   "metadata": {},
   "outputs": [
    {
     "data": {
      "text/plain": [
       "[{'title': 'Petro y la lucha de clases / Columna de Felipe López Caballero',\n",
       "  'url': 'https://www.eltiempo.com/politica/gobierno/petro-y-la-lucha-de-clases-columna-de-felipe-lopez-caballero-3333631',\n",
       "  'content': ['La explicación está en la narrativa que Petro y sus redes sociales han creado. Según esta: 1) Colombia ha estado gobernada durante 200 años por unas élites corruptas interesadas solamente en enriquecerse y perpetuarse en el poder.',\n",
       "   '2) Con Petro llegaría el primer presidente de izquierda cuya preocupación son los pobres y la justicia social.',\n",
       "   '3) Los dueños de Colombia no estarían dispuestos a ceder sus privilegios ante un exguerrillero que busca el cambio.',\n",
       "   'Esa narrativa es simplista, efectista y dañina. Para comenzar, el problema no es que Petro sea un exguerrillero. Si el presidente fuera Antonio Navarro la economía estaría funcionando mejor y la polarización no estaría disparada. La mitad del estancamiento del PIB obedece a factores internacionales, pero la otra mitad tiene nombre propio. El problema es que Petro, un agitador político brillante, ha resultado un administrador incompetente con una personalidad paranoica y pendenciera y unos hábitos de trabajo extraños.',\n",
       "   'Su éxito se basó en haber hecho un diagnóstico acertado de las fallas del sistema. Sin embargo, sus soluciones siempre han estado enmarcadas en una óptica de lucha de clases poco realista y obsoleta. Petro tiene frente al sector privado una prevención cuasi marxista. Él cree que el capitalismo está fracasando. Tiene razón. Lo que no aclara es que el socialismo ya fracasó. ',\n",
       "   'Para él la oposición de la oligarquía es la razón por la cual el cambio que pide el pueblo está bloqueado. Ese es un planteamiento taquillero que siempre creerá la tercera parte de los colombianos. Pero no es verdad. Todos los presidentes creen que gobiernan para los pobres. No necesariamente porque los quieran, sino porque las personalidades que buscan el poder tienen algo de megalomanía y su prioridad es ante todo su lugar en la historia. Y ese veredicto lo da solamente el pueblo.',\n",
       "   'No es verdad que Petro sea el primer presidente de izquierda en la historia de Colombia. Mas transformador que este Gobierno pueden terminar siendo los de José Hilario López, Alfonso López Pumarejo, los dos Lleras y otros.',\n",
       "   'Tampoco es válida la teoría de que solo la izquierda gobierna para los pobres. Sin ir más lejos, según todas las encuestas, el presidente a quien más han querido los “nadies” en el último medio siglo ha sido Álvaro Uribe. Igualmente, el ministro que más ha hecho por los “nadies” en vivienda, acueducto, alcantarillado e infraestructura vial ha sido Germán Vargas. Y los dos son símbolos de la derecha en la actualidad.',\n",
       "   'Por lo tanto, la razón por la cual las reformas de Petro no están siendo aprobadas no es porque los críticos sean de derecha, ni porque estén financiados por los dueños de Colombia, ni porque los congresistas que votan en contra estén chantajeados por mermelada. La verdadera razón es porque después del entusiasmo inicial por el concepto abstracto del “cambio”, en el desarrollo del debate han salido a flote riesgos enormes en la mayoría de las propuestas del Gobierno.',\n",
       "   'Los defensores de intereses particulares sí se oponen a las reformas que los afectan. Pero no son estos los que han volteado a la opinión pública. Han sido más bien las opiniones de los expertos las que han alertado sobre sus posibles consecuencias. Las críticas que se le han hecho a la reforma de la salud, a la laboral, a la de pensiones y a otras, son contundentes.',\n",
       "   'En este momento en Colombia no hay un debate entre izquierda y derecha sino entre soñadores y realistas. Todos los economistas serios están de acuerdo en que la posición radical del Gobierno de no otorgar nuevas licencias de exploración compromete no solo el futuro energético del país sino su estabilidad económica. Igualmente, los conocedores del orden público consideran que la ‘paz total’ con su exceso de generosidad con toda clase de delincuentes puede acabar empeorando la seguridad actual.',\n",
       "   'Lo anterior no significa que los tecnócratas siempre tengan la razón. Petro ha estudiado los problemas del país y no puede estar equivocado en todo. Sin embargo, la mayoría de sus críticos tiene credibilidad por la experiencia que han acumulado manejando los problemas del país tanto del sector público como del privado. Cuando personas como Mauricio Cárdenas, Alejandro Gaviria, Juan Carlos Echeverry, Juan Camilo Restrepo, Salomón Kalmanovitz, Mauricio Cabrera, Cecilia López y muchos otros opinan, no lo hacen porque estén al servicio de los grandes intereses privados. Lo hacen porque están preocupados por el futuro de los “nadies” y del país. Eso es lo que nunca ha podido entender Gustavo Petro.']},\n",
       " {'title': \"Gobierno debe respetar las reglas de la Constitución': Velasco sobre propuesta de constituyente\",\n",
       "  'url': 'https://www.eltiempo.com/politica/gobierno/gobierno-debe-respetar-las-reglas-de-la-constitucion-velasco-sobre-propuesta-de-constituyente-3334240',\n",
       "  'content': ['El ministro del Interior, Luis Fernando Velasco, aseguró que el Gobierno Nacional no medita saltarse los pasos que están establecidos por la Constitución para convocar a una Asamblea Nacional Constituyente. El funcionario intentó calmar las aguas luego de unas recientes declaraciones del presidente Gustavo Petro en las que abrió dudas respecto al mecanismo que podría usarse.',\n",
       "   'Este gobierno, no solo como proyecto político, sino como institución, ayudó a crear la Constitución del 91, y debe ser respetuoso con las reglas. Este gobierno se hizo elegir con las reglas de la Constitución y con las leyes actuales y por supuesto debe respetarlas, dijo Velasco en W Radio.',\n",
       "   'El Presidente, en diálogo con RCN, dijo sobre el camino para llevar a una constituyente que invitaría a mirar menos la forma que el contenido, y aseguró que el poder constituyente inicia con la movilización del pueblo. ',\n",
       "   'Ahora bien, el ministro del Interior calificó como valiosa la propuesta del primer mandatario, pues en la Constitución del 91, en algunos temas centrales como la equidad, no ha sido los suficientemente desarrollada y por eso la sociedad puede intentar hacer un acuerdo para darle un impulso a esos elementos. Y por eso el Presidente habla de constituyente permanente, que es el ciudadano actuando, el ciudadano participando, agregó.',\n",
       "   'No obstante, recalcó que igualmente el camino para tocar la estructura de la Constitución debe hacerse a través de las reglas. Este y cualquier gobierno debe respetarlas',\n",
       "   'De acuerdo con la carta magna, para citar a una Asamblea Nacional Constituyente debe radicarse una ley en el Congreso y si esta es aprobada por la mayoría debe pasar a la Corte Constitucional, la cual evaluaría la legalidad de la misma y en consecuencia convocaría a los colombianos para que en una votación decidan si se realiza.',\n",
       "   'La calle hay que atenderla, hay que escucharla, pero a la hora de hacer las reformas constitucionales, la Constitución dice cómo hacerlas a pesar de que la calle puede decirles a los gobernantes lo que quieren y desean, puntualizó el ministro.']}]"
      ]
     },
     "execution_count": 19,
     "metadata": {},
     "output_type": "execute_result"
    }
   ],
   "source": [
    "a1"
   ]
  },
  {
   "cell_type": "code",
   "execution_count": 20,
   "metadata": {},
   "outputs": [],
   "source": [
    "import re\n",
    "from unidecode import unidecode\n",
    "\n",
    "def preprocess_text(text):\n",
    "    \n",
    "    text = unidecode(text) # Remove accents \n",
    "    text = re.sub(r'[^a-zA-Z\\s]', '', text.lower()) # Remove punctuation and convert to lowercase\n",
    "\n",
    "    return text\n",
    "\n",
    "def remove_stop_words(text, custom_stop_words):\n",
    "    \"\"\"\n",
    "    Remove custom stop words from the input text.\n",
    "\n",
    "    Args:\n",
    "        text (str): Input text.\n",
    "        custom_stop_words (list): List of custom stop words to be removed.\n",
    "\n",
    "    Returns:\n",
    "        str: Text with custom stop words removed.\n",
    "    \"\"\"\n",
    "    stop_words = set(custom_stop_words)\n",
    "    return ' '.join(word for word in text.split() if word.lower() not in stop_words)\n",
    "\n",
    "def lemmatize(text):\n",
    "    # Process the text\n",
    "    doc = nlp(text)\n",
    "    # Extract the lemma for each token in the text\n",
    "    lemmas = [token.lemma_ for token in doc]\n",
    "    return lemmas"
   ]
  },
  {
   "cell_type": "code",
   "execution_count": 21,
   "metadata": {},
   "outputs": [],
   "source": [
    "documents = []\n",
    "documents.extend(a1[0]['content'])\n",
    "documents.extend(a1[1]['content'])"
   ]
  },
  {
   "cell_type": "code",
   "execution_count": 22,
   "metadata": {},
   "outputs": [
    {
     "data": {
      "text/plain": [
       "'2 ) con Petro llegar el primero presidente de izquierda cuyo preocupación ser el pobre y el justicia social .'"
      ]
     },
     "execution_count": 22,
     "metadata": {},
     "output_type": "execute_result"
    }
   ],
   "source": [
    "' '.join(lemmatize(documents[1]))"
   ]
  },
  {
   "cell_type": "code",
   "execution_count": 23,
   "metadata": {},
   "outputs": [],
   "source": [
    "documents = [remove_stop_words(preprocess_text(' '.join(lemmatize(d))),spanish_stop_words) for d in documents]"
   ]
  },
  {
   "cell_type": "code",
   "execution_count": 24,
   "metadata": {},
   "outputs": [
    {
     "data": {
      "text/plain": [
       "['explicacion narrativa petro red social crear segun colombia gobernado ano elite corrupto interesado solamente enriquecer perpetuar',\n",
       " 'petro llegar primero presidente izquierda preocupacion pobre justicia social',\n",
       " 'dueno colombia dispuesto ceder privilegio exguerrillero buscar cambio',\n",
       " 'narrativa simplista efectista danino comenzar problema petro exguerrillero presidente antonio navarro economia funcionar mejor polarizacion disparado mitad estancamiento pib obedecer factor internacional mitad tener nombre propio problema petro agitador politico brillante resultar administrador incompetente personalidad paranoico pendenciero habito trabajo extrano',\n",
       " 'exito basar diagnostico acertado falla sistema embargo solucion siempre enmarcada optica lucha clase realista obsoleto petro tener frente sector privado prevencion cuasi marxista creer capitalismo fracasar tener razon aclarar socialismo fracasar',\n",
       " 'oposicion oligarquia razon cambio pedir pueblo bloqueado planteamiento taquillero siempre creer tercero parte colombiano verdad president creer gobernar pobre necesariamente queir personalidad buscar tener megalomania prioridad lugar historia veredicto dar solamente pueblo',\n",
       " 'verdad petro primero presidente izquierda historia colombia transformador gobierno terminar jose hilario lopez alfonso lopez pumarejo dos lleras',\n",
       " 'tampoco valido teoria solo izquierda gobernar pobre ir lejos segun encuesta presidente querer nadies ultimo medio siglo alvaro uribe igualmente ministro nadies vivienda acueducto alcantarillado infraestructura vial german vargas dos simbolo derecha actualidad',\n",
       " 'razon reforma petro aprobar critico derecha financiado dueno colombia congresista votar chantajeado mermelada verdadero razon despues entusiasmo inicial concepto abstracto cambio desarrollo debate salir flote riesgo enorme mayoria propuesta gobierno',\n",
       " 'defensor interes particular oponer reforma afectar voltear opinion publico bien opinion experto alertar posible consecuencia critica reforma salud laboral pension contundente',\n",
       " 'momento colombia debate izquierda derecho sonador realista economista serio acuerdo posicion radical gobierno otorgar nuevo licencia exploracion comprometer solo futuro energetico pais estabilidad economico igualmente conocedor orden publico considerar paz total exceso generosidad clase delincuente acabar empeorar seguridad actual',\n",
       " 'anterior significar tecnocrata siempre tener razon petro estudiar problema pais equivocado embargo mayoria critico tener credibilidad experiencia acumular manejar problema pais sector publico privado persona mauricio cardenas alejandro gaviria juan carlos echeverry juan camilo restrepo salomon kalmanovitz mauricio cabrera cecilia lopez opinar servicio grande interes privado preocupado futuro nadies pais nunca entender gustavo petro',\n",
       " 'ministro interior luis fernando velasco asegurar gobierno nacional meditar saltar paso establecido constitucion convocar asamblea nacional constituyente funcionario intentar calmar agua luego reciente declaracion presidente gustavo petro abrir duda respecto mecanismo usar',\n",
       " 'gobierno solo proyecto politico institucion ayudar crear constitucion deber respetuoso regla gobierno elegir regla constitucion ley actual supuesto deber respetar decir velasco w radio',\n",
       " 'presidente dialogo rcn decir camino llevar constituyente invitar mirar menos forma contenido asegurar constituyente iniciar movilizacion pueblo',\n",
       " 'ahora bien ministro interior calificar valioso propuesta primero mandatario pues constitucion alguno tema central equidad suficientemente desarrollado sociedad intentar acuerdo dar impulso elemento presidente hablar constituyente permanente ciudadano actuar ciudadano participar agregar',\n",
       " 'obstante recalcar igualmente camino tocar estructura constitucion deber traves regla cualquiera gobierno deber respetar',\n",
       " 'acuerdo carta magno citar asamblea nacional constituyente deber radicar ley congreso aprobar mayoria deber pasar corte constitucional evaluar legalidad mismo consecuencia convocar colombiano votacion decidir realizar',\n",
       " 'calle atender escuchar hora reforma constitucional constitucion decir pesar calle decir gobernante querer desear puntualizar ministro']"
      ]
     },
     "execution_count": 24,
     "metadata": {},
     "output_type": "execute_result"
    }
   ],
   "source": [
    "documents"
   ]
  },
  {
   "cell_type": "code",
   "execution_count": 25,
   "metadata": {},
   "outputs": [],
   "source": [
    "import numpy as np\n",
    "from sklearn.feature_extraction.text import CountVectorizer\n",
    "\n",
    "\n",
    "# Initialize CountVectorizer\n",
    "vectorizer = CountVectorizer(stop_words=spanish_stop_words)\n",
    "\n",
    "# Fit and transform the documents\n",
    "X = vectorizer.fit_transform(documents)\n"
   ]
  },
  {
   "cell_type": "code",
   "execution_count": 208,
   "metadata": {},
   "outputs": [],
   "source": [
    "#vectorizer.get_feature_names_out()"
   ]
  },
  {
   "cell_type": "code",
   "execution_count": 26,
   "metadata": {},
   "outputs": [],
   "source": [
    "def generate_pairs(text):\n",
    "    words = text.split()\n",
    "    pairs = []\n",
    "    for i in range(len(words) - 1):\n",
    "        pairs.append(words[i]+\" \"+words[i+1])\n",
    "    return pairs"
   ]
  },
  {
   "cell_type": "code",
   "execution_count": 27,
   "metadata": {},
   "outputs": [
    {
     "name": "stdout",
     "output_type": "stream",
     "text": [
      "['explicacion narrativa', 'narrativa petro', 'petro red', 'red social', 'social crear', 'crear segun', 'segun colombia', 'colombia gobernado', 'gobernado ano', 'ano elite', 'elite corrupto', 'corrupto interesado', 'interesado solamente', 'solamente enriquecer', 'enriquecer perpetuar', 'petro llegar', 'llegar primero', 'primero presidente', 'presidente izquierda', 'izquierda preocupacion', 'preocupacion pobre', 'pobre justicia', 'justicia social', 'dueno colombia', 'colombia dispuesto', 'dispuesto ceder', 'ceder privilegio', 'privilegio exguerrillero', 'exguerrillero buscar', 'buscar cambio', 'narrativa simplista', 'simplista efectista', 'efectista danino', 'danino comenzar', 'comenzar problema', 'problema petro', 'petro exguerrillero', 'exguerrillero presidente', 'presidente antonio', 'antonio navarro', 'navarro economia', 'economia funcionar', 'funcionar mejor', 'mejor polarizacion', 'polarizacion disparado', 'disparado mitad', 'mitad estancamiento', 'estancamiento pib', 'pib obedecer', 'obedecer factor', 'factor internacional', 'internacional mitad', 'mitad tener', 'tener nombre', 'nombre propio', 'propio problema', 'problema petro', 'petro agitador', 'agitador politico', 'politico brillante', 'brillante resultar', 'resultar administrador', 'administrador incompetente', 'incompetente personalidad', 'personalidad paranoico', 'paranoico pendenciero', 'pendenciero habito', 'habito trabajo', 'trabajo extrano', 'exito basar', 'basar diagnostico', 'diagnostico acertado', 'acertado falla', 'falla sistema', 'sistema embargo', 'embargo solucion', 'solucion siempre', 'siempre enmarcada', 'enmarcada optica', 'optica lucha', 'lucha clase', 'clase realista', 'realista obsoleto', 'obsoleto petro', 'petro tener', 'tener frente', 'frente sector', 'sector privado', 'privado prevencion', 'prevencion cuasi', 'cuasi marxista', 'marxista creer', 'creer capitalismo', 'capitalismo fracasar', 'fracasar tener', 'tener razon', 'razon aclarar', 'aclarar socialismo', 'socialismo fracasar', 'oposicion oligarquia', 'oligarquia razon', 'razon cambio', 'cambio pedir', 'pedir pueblo', 'pueblo bloqueado', 'bloqueado planteamiento', 'planteamiento taquillero', 'taquillero siempre', 'siempre creer', 'creer tercero', 'tercero parte', 'parte colombiano', 'colombiano verdad', 'verdad president', 'president creer', 'creer gobernar', 'gobernar pobre', 'pobre necesariamente', 'necesariamente queir', 'queir personalidad', 'personalidad buscar', 'buscar tener', 'tener megalomania', 'megalomania prioridad', 'prioridad lugar', 'lugar historia', 'historia veredicto', 'veredicto dar', 'dar solamente', 'solamente pueblo', 'verdad petro', 'petro primero', 'primero presidente', 'presidente izquierda', 'izquierda historia', 'historia colombia', 'colombia transformador', 'transformador gobierno', 'gobierno terminar', 'terminar jose', 'jose hilario', 'hilario lopez', 'lopez alfonso', 'alfonso lopez', 'lopez pumarejo', 'pumarejo dos', 'dos lleras', 'tampoco valido', 'valido teoria', 'teoria solo', 'solo izquierda', 'izquierda gobernar', 'gobernar pobre', 'pobre ir', 'ir lejos', 'lejos segun', 'segun encuesta', 'encuesta presidente', 'presidente querer', 'querer nadies', 'nadies ultimo', 'ultimo medio', 'medio siglo', 'siglo alvaro', 'alvaro uribe', 'uribe igualmente', 'igualmente ministro', 'ministro nadies', 'nadies vivienda', 'vivienda acueducto', 'acueducto alcantarillado', 'alcantarillado infraestructura', 'infraestructura vial', 'vial german', 'german vargas', 'vargas dos', 'dos simbolo', 'simbolo derecha', 'derecha actualidad', 'razon reforma', 'reforma petro', 'petro aprobar', 'aprobar critico', 'critico derecha', 'derecha financiado', 'financiado dueno', 'dueno colombia', 'colombia congresista', 'congresista votar', 'votar chantajeado', 'chantajeado mermelada', 'mermelada verdadero', 'verdadero razon', 'razon despues', 'despues entusiasmo', 'entusiasmo inicial', 'inicial concepto', 'concepto abstracto', 'abstracto cambio', 'cambio desarrollo', 'desarrollo debate', 'debate salir', 'salir flote', 'flote riesgo', 'riesgo enorme', 'enorme mayoria', 'mayoria propuesta', 'propuesta gobierno', 'defensor interes', 'interes particular', 'particular oponer', 'oponer reforma', 'reforma afectar', 'afectar voltear', 'voltear opinion', 'opinion publico', 'publico bien', 'bien opinion', 'opinion experto', 'experto alertar', 'alertar posible', 'posible consecuencia', 'consecuencia critica', 'critica reforma', 'reforma salud', 'salud laboral', 'laboral pension', 'pension contundente', 'momento colombia', 'colombia debate', 'debate izquierda', 'izquierda derecho', 'derecho sonador', 'sonador realista', 'realista economista', 'economista serio', 'serio acuerdo', 'acuerdo posicion', 'posicion radical', 'radical gobierno', 'gobierno otorgar', 'otorgar nuevo', 'nuevo licencia', 'licencia exploracion', 'exploracion comprometer', 'comprometer solo', 'solo futuro', 'futuro energetico', 'energetico pais', 'pais estabilidad', 'estabilidad economico', 'economico igualmente', 'igualmente conocedor', 'conocedor orden', 'orden publico', 'publico considerar', 'considerar paz', 'paz total', 'total exceso', 'exceso generosidad', 'generosidad clase', 'clase delincuente', 'delincuente acabar', 'acabar empeorar', 'empeorar seguridad', 'seguridad actual', 'anterior significar', 'significar tecnocrata', 'tecnocrata siempre', 'siempre tener', 'tener razon', 'razon petro', 'petro estudiar', 'estudiar problema', 'problema pais', 'pais equivocado', 'equivocado embargo', 'embargo mayoria', 'mayoria critico', 'critico tener', 'tener credibilidad', 'credibilidad experiencia', 'experiencia acumular', 'acumular manejar', 'manejar problema', 'problema pais', 'pais sector', 'sector publico', 'publico privado', 'privado persona', 'persona mauricio', 'mauricio cardenas', 'cardenas alejandro', 'alejandro gaviria', 'gaviria juan', 'juan carlos', 'carlos echeverry', 'echeverry juan', 'juan camilo', 'camilo restrepo', 'restrepo salomon', 'salomon kalmanovitz', 'kalmanovitz mauricio', 'mauricio cabrera', 'cabrera cecilia', 'cecilia lopez', 'lopez opinar', 'opinar servicio', 'servicio grande', 'grande interes', 'interes privado', 'privado preocupado', 'preocupado futuro', 'futuro nadies', 'nadies pais', 'pais nunca', 'nunca entender', 'entender gustavo', 'gustavo petro', 'ministro interior', 'interior luis', 'luis fernando', 'fernando velasco', 'velasco asegurar', 'asegurar gobierno', 'gobierno nacional', 'nacional meditar', 'meditar saltar', 'saltar paso', 'paso establecido', 'establecido constitucion', 'constitucion convocar', 'convocar asamblea', 'asamblea nacional', 'nacional constituyente', 'constituyente funcionario', 'funcionario intentar', 'intentar calmar', 'calmar agua', 'agua luego', 'luego reciente', 'reciente declaracion', 'declaracion presidente', 'presidente gustavo', 'gustavo petro', 'petro abrir', 'abrir duda', 'duda respecto', 'respecto mecanismo', 'mecanismo usar', 'gobierno solo', 'solo proyecto', 'proyecto politico', 'politico institucion', 'institucion ayudar', 'ayudar crear', 'crear constitucion', 'constitucion deber', 'deber respetuoso', 'respetuoso regla', 'regla gobierno', 'gobierno elegir', 'elegir regla', 'regla constitucion', 'constitucion ley', 'ley actual', 'actual supuesto', 'supuesto deber', 'deber respetar', 'respetar decir', 'decir velasco', 'velasco w', 'w radio', 'presidente dialogo', 'dialogo rcn', 'rcn decir', 'decir camino', 'camino llevar', 'llevar constituyente', 'constituyente invitar', 'invitar mirar', 'mirar menos', 'menos forma', 'forma contenido', 'contenido asegurar', 'asegurar constituyente', 'constituyente iniciar', 'iniciar movilizacion', 'movilizacion pueblo', 'ahora bien', 'bien ministro', 'ministro interior', 'interior calificar', 'calificar valioso', 'valioso propuesta', 'propuesta primero', 'primero mandatario', 'mandatario pues', 'pues constitucion', 'constitucion alguno', 'alguno tema', 'tema central', 'central equidad', 'equidad suficientemente', 'suficientemente desarrollado', 'desarrollado sociedad', 'sociedad intentar', 'intentar acuerdo', 'acuerdo dar', 'dar impulso', 'impulso elemento', 'elemento presidente', 'presidente hablar', 'hablar constituyente', 'constituyente permanente', 'permanente ciudadano', 'ciudadano actuar', 'actuar ciudadano', 'ciudadano participar', 'participar agregar', 'obstante recalcar', 'recalcar igualmente', 'igualmente camino', 'camino tocar', 'tocar estructura', 'estructura constitucion', 'constitucion deber', 'deber traves', 'traves regla', 'regla cualquiera', 'cualquiera gobierno', 'gobierno deber', 'deber respetar', 'acuerdo carta', 'carta magno', 'magno citar', 'citar asamblea', 'asamblea nacional', 'nacional constituyente', 'constituyente deber', 'deber radicar', 'radicar ley', 'ley congreso', 'congreso aprobar', 'aprobar mayoria', 'mayoria deber', 'deber pasar', 'pasar corte', 'corte constitucional', 'constitucional evaluar', 'evaluar legalidad', 'legalidad mismo', 'mismo consecuencia', 'consecuencia convocar', 'convocar colombiano', 'colombiano votacion', 'votacion decidir', 'decidir realizar', 'calle atender', 'atender escuchar', 'escuchar hora', 'hora reforma', 'reforma constitucional', 'constitucional constitucion', 'constitucion decir', 'decir pesar', 'pesar calle', 'calle decir', 'decir gobernante', 'gobernante querer', 'querer desear', 'desear puntualizar', 'puntualizar ministro']\n"
     ]
    }
   ],
   "source": [
    "docs_pairs = []\n",
    "\n",
    "# Generate pairs after removing stop words for each document\n",
    "docs_pairs.extend([pair for d in documents for pair in generate_pairs(remove_stop_words(d, spanish_stop_words))])\n",
    "\n",
    "print(docs_pairs)"
   ]
  },
  {
   "cell_type": "code",
   "execution_count": 28,
   "metadata": {},
   "outputs": [],
   "source": [
    "encoding = vectorizer.transform(docs_pairs).toarray()\n",
    "co_ocurrences = encoding.T@encoding\n",
    "\n",
    "names = vectorizer.get_feature_names_out().tolist()\n",
    "\n",
    "np.fill_diagonal(co_ocurrences, 0)\n",
    "\n",
    "co_ocurrences_df = pd.DataFrame(co_ocurrences, index=names, columns=names)"
   ]
  },
  {
   "cell_type": "code",
   "execution_count": 29,
   "metadata": {},
   "outputs": [
    {
     "data": {
      "text/plain": [
       "petro            18\n",
       "presidente       13\n",
       "gobierno         12\n",
       "tener            12\n",
       "constitucion     12\n",
       "deber            12\n",
       "constituyente    10\n",
       "colombia         10\n",
       "razon             9\n",
       "reforma           8\n",
       "izquierda         8\n",
       "dtype: int64"
      ]
     },
     "execution_count": 29,
     "metadata": {},
     "output_type": "execute_result"
    }
   ],
   "source": [
    "top_matches = co_ocurrences_df.sum(axis=1).sort_values(ascending=False).head(11)\n",
    "top_matches"
   ]
  },
  {
   "cell_type": "code",
   "execution_count": 31,
   "metadata": {},
   "outputs": [
    {
     "data": {
      "text/plain": [
       "gustavo          2\n",
       "problema         2\n",
       "abrir            1\n",
       "agitador         1\n",
       "aprobar          1\n",
       "estudiar         1\n",
       "exguerrillero    1\n",
       "llegar           1\n",
       "narrativa        1\n",
       "obsoleto         1\n",
       "primero          1\n",
       "razon            1\n",
       "red              1\n",
       "reforma          1\n",
       "tener            1\n",
       "verdad           1\n",
       "Name: petro, dtype: int64"
      ]
     },
     "execution_count": 31,
     "metadata": {},
     "output_type": "execute_result"
    }
   ],
   "source": [
    "co_ocurrences_df[co_ocurrences_df['petro']!=0]['petro'].sort_values(ascending=False)"
   ]
  },
  {
   "cell_type": "code",
   "execution_count": 32,
   "metadata": {},
   "outputs": [
    {
     "data": {
      "text/html": [
       "<div>\n",
       "<style scoped>\n",
       "    .dataframe tbody tr th:only-of-type {\n",
       "        vertical-align: middle;\n",
       "    }\n",
       "\n",
       "    .dataframe tbody tr th {\n",
       "        vertical-align: top;\n",
       "    }\n",
       "\n",
       "    .dataframe thead th {\n",
       "        text-align: right;\n",
       "    }\n",
       "</style>\n",
       "<table border=\"1\" class=\"dataframe\">\n",
       "  <thead>\n",
       "    <tr style=\"text-align: right;\">\n",
       "      <th></th>\n",
       "      <th>petro</th>\n",
       "      <th>presidente</th>\n",
       "      <th>gobierno</th>\n",
       "      <th>tener</th>\n",
       "      <th>constitucion</th>\n",
       "      <th>deber</th>\n",
       "      <th>constituyente</th>\n",
       "      <th>colombia</th>\n",
       "      <th>razon</th>\n",
       "      <th>reforma</th>\n",
       "      <th>izquierda</th>\n",
       "    </tr>\n",
       "  </thead>\n",
       "  <tbody>\n",
       "    <tr>\n",
       "      <th>petro</th>\n",
       "      <td>0</td>\n",
       "      <td>0</td>\n",
       "      <td>0</td>\n",
       "      <td>1</td>\n",
       "      <td>0</td>\n",
       "      <td>0</td>\n",
       "      <td>0</td>\n",
       "      <td>0</td>\n",
       "      <td>1</td>\n",
       "      <td>1</td>\n",
       "      <td>0</td>\n",
       "    </tr>\n",
       "    <tr>\n",
       "      <th>presidente</th>\n",
       "      <td>0</td>\n",
       "      <td>0</td>\n",
       "      <td>0</td>\n",
       "      <td>0</td>\n",
       "      <td>0</td>\n",
       "      <td>0</td>\n",
       "      <td>0</td>\n",
       "      <td>0</td>\n",
       "      <td>0</td>\n",
       "      <td>0</td>\n",
       "      <td>2</td>\n",
       "    </tr>\n",
       "    <tr>\n",
       "      <th>gobierno</th>\n",
       "      <td>0</td>\n",
       "      <td>0</td>\n",
       "      <td>0</td>\n",
       "      <td>0</td>\n",
       "      <td>0</td>\n",
       "      <td>1</td>\n",
       "      <td>0</td>\n",
       "      <td>0</td>\n",
       "      <td>0</td>\n",
       "      <td>0</td>\n",
       "      <td>0</td>\n",
       "    </tr>\n",
       "    <tr>\n",
       "      <th>tener</th>\n",
       "      <td>1</td>\n",
       "      <td>0</td>\n",
       "      <td>0</td>\n",
       "      <td>0</td>\n",
       "      <td>0</td>\n",
       "      <td>0</td>\n",
       "      <td>0</td>\n",
       "      <td>0</td>\n",
       "      <td>2</td>\n",
       "      <td>0</td>\n",
       "      <td>0</td>\n",
       "    </tr>\n",
       "    <tr>\n",
       "      <th>constitucion</th>\n",
       "      <td>0</td>\n",
       "      <td>0</td>\n",
       "      <td>0</td>\n",
       "      <td>0</td>\n",
       "      <td>0</td>\n",
       "      <td>2</td>\n",
       "      <td>0</td>\n",
       "      <td>0</td>\n",
       "      <td>0</td>\n",
       "      <td>0</td>\n",
       "      <td>0</td>\n",
       "    </tr>\n",
       "    <tr>\n",
       "      <th>deber</th>\n",
       "      <td>0</td>\n",
       "      <td>0</td>\n",
       "      <td>1</td>\n",
       "      <td>0</td>\n",
       "      <td>2</td>\n",
       "      <td>0</td>\n",
       "      <td>1</td>\n",
       "      <td>0</td>\n",
       "      <td>0</td>\n",
       "      <td>0</td>\n",
       "      <td>0</td>\n",
       "    </tr>\n",
       "    <tr>\n",
       "      <th>constituyente</th>\n",
       "      <td>0</td>\n",
       "      <td>0</td>\n",
       "      <td>0</td>\n",
       "      <td>0</td>\n",
       "      <td>0</td>\n",
       "      <td>1</td>\n",
       "      <td>0</td>\n",
       "      <td>0</td>\n",
       "      <td>0</td>\n",
       "      <td>0</td>\n",
       "      <td>0</td>\n",
       "    </tr>\n",
       "    <tr>\n",
       "      <th>colombia</th>\n",
       "      <td>0</td>\n",
       "      <td>0</td>\n",
       "      <td>0</td>\n",
       "      <td>0</td>\n",
       "      <td>0</td>\n",
       "      <td>0</td>\n",
       "      <td>0</td>\n",
       "      <td>0</td>\n",
       "      <td>0</td>\n",
       "      <td>0</td>\n",
       "      <td>0</td>\n",
       "    </tr>\n",
       "    <tr>\n",
       "      <th>razon</th>\n",
       "      <td>1</td>\n",
       "      <td>0</td>\n",
       "      <td>0</td>\n",
       "      <td>2</td>\n",
       "      <td>0</td>\n",
       "      <td>0</td>\n",
       "      <td>0</td>\n",
       "      <td>0</td>\n",
       "      <td>0</td>\n",
       "      <td>1</td>\n",
       "      <td>0</td>\n",
       "    </tr>\n",
       "    <tr>\n",
       "      <th>reforma</th>\n",
       "      <td>1</td>\n",
       "      <td>0</td>\n",
       "      <td>0</td>\n",
       "      <td>0</td>\n",
       "      <td>0</td>\n",
       "      <td>0</td>\n",
       "      <td>0</td>\n",
       "      <td>0</td>\n",
       "      <td>1</td>\n",
       "      <td>0</td>\n",
       "      <td>0</td>\n",
       "    </tr>\n",
       "    <tr>\n",
       "      <th>izquierda</th>\n",
       "      <td>0</td>\n",
       "      <td>2</td>\n",
       "      <td>0</td>\n",
       "      <td>0</td>\n",
       "      <td>0</td>\n",
       "      <td>0</td>\n",
       "      <td>0</td>\n",
       "      <td>0</td>\n",
       "      <td>0</td>\n",
       "      <td>0</td>\n",
       "      <td>0</td>\n",
       "    </tr>\n",
       "  </tbody>\n",
       "</table>\n",
       "</div>"
      ],
      "text/plain": [
       "               petro  presidente  gobierno  tener  constitucion  deber  \\\n",
       "petro              0           0         0      1             0      0   \n",
       "presidente         0           0         0      0             0      0   \n",
       "gobierno           0           0         0      0             0      1   \n",
       "tener              1           0         0      0             0      0   \n",
       "constitucion       0           0         0      0             0      2   \n",
       "deber              0           0         1      0             2      0   \n",
       "constituyente      0           0         0      0             0      1   \n",
       "colombia           0           0         0      0             0      0   \n",
       "razon              1           0         0      2             0      0   \n",
       "reforma            1           0         0      0             0      0   \n",
       "izquierda          0           2         0      0             0      0   \n",
       "\n",
       "               constituyente  colombia  razon  reforma  izquierda  \n",
       "petro                      0         0      1        1          0  \n",
       "presidente                 0         0      0        0          2  \n",
       "gobierno                   0         0      0        0          0  \n",
       "tener                      0         0      2        0          0  \n",
       "constitucion               0         0      0        0          0  \n",
       "deber                      1         0      0        0          0  \n",
       "constituyente              0         0      0        0          0  \n",
       "colombia                   0         0      0        0          0  \n",
       "razon                      0         0      0        1          0  \n",
       "reforma                    0         0      1        0          0  \n",
       "izquierda                  0         0      0        0          0  "
      ]
     },
     "execution_count": 32,
     "metadata": {},
     "output_type": "execute_result"
    }
   ],
   "source": [
    "co_ocurrences_df.loc[top_matches.index,top_matches.index]"
   ]
  },
  {
   "cell_type": "markdown",
   "metadata": {},
   "source": [
    "pipenv run python -m spacy download es_core_news_lg"
   ]
  },
  {
   "cell_type": "code",
   "execution_count": 216,
   "metadata": {},
   "outputs": [
    {
     "name": "stdout",
     "output_type": "stream",
     "text": [
      "['el', 'universidad', 'estar', 'organizar', 'varios', 'evento', '.']\n"
     ]
    }
   ],
   "source": [
    "import spacy\n",
    "\n",
    "# Load the medium-sized Spanish model\n",
    "nlp = spacy.load('es_core_news_lg')\n",
    "\n",
    "def lemmatize(text):\n",
    "    # Process the text\n",
    "    doc = nlp(text)\n",
    "    # Extract the lemma for each token in the text\n",
    "    lemmas = [token.lemma_ for token in doc]\n",
    "    return lemmas\n",
    "\n",
    "# Example usage\n",
    "text = \"Las universidades están organizando varios eventos.\"\n",
    "lemmas = lemmatize(text)\n",
    "print(lemmas)\n"
   ]
  }
 ],
 "metadata": {
  "kernelspec": {
   "display_name": "network_science-J3mh9D9T",
   "language": "python",
   "name": "python3"
  },
  "language_info": {
   "codemirror_mode": {
    "name": "ipython",
    "version": 3
   },
   "file_extension": ".py",
   "mimetype": "text/x-python",
   "name": "python",
   "nbconvert_exporter": "python",
   "pygments_lexer": "ipython3",
   "version": "3.11.2"
  }
 },
 "nbformat": 4,
 "nbformat_minor": 2
}
