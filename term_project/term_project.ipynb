{
 "cells": [
  {
   "cell_type": "code",
   "execution_count": 93,
   "metadata": {},
   "outputs": [],
   "source": [
    "import pandas as pd\n",
    "import json"
   ]
  },
  {
   "cell_type": "code",
   "execution_count": 94,
   "metadata": {},
   "outputs": [],
   "source": [
    "\n",
    "def load_json_from_path(file_path):\n",
    "    \"\"\"\n",
    "    Load JSON data from a file path.\n",
    "\n",
    "    Parameters:\n",
    "        file_path (str): The path to the JSON file.\n",
    "\n",
    "    Returns:\n",
    "        dict: The JSON data loaded from the file.\n",
    "    \"\"\"\n",
    "    with open(file_path, 'r', encoding=\"utf8\") as file:\n",
    "        json_data = json.load(file)\n",
    "    return json_data\n",
    "\n"
   ]
  },
  {
   "cell_type": "code",
   "execution_count": 95,
   "metadata": {},
   "outputs": [],
   "source": [
    "a1 = load_json_from_path('./data/article1.json')"
   ]
  },
  {
   "cell_type": "code",
   "execution_count": 96,
   "metadata": {},
   "outputs": [
    {
     "data": {
      "text/plain": [
       "[{'title': 'Petro y la lucha de clases / Columna de Felipe López Caballero',\n",
       "  'url': 'https://www.eltiempo.com/politica/gobierno/petro-y-la-lucha-de-clases-columna-de-felipe-lopez-caballero-3333631',\n",
       "  'content': ['La explicación está en la narrativa que Petro y sus redes sociales han creado. Según esta: 1) Colombia ha estado gobernada durante 200 años por unas élites corruptas interesadas solamente en enriquecerse y perpetuarse en el poder.',\n",
       "   '2) Con Petro llegaría el primer presidente de izquierda cuya preocupación son los pobres y la justicia social.',\n",
       "   '3) Los dueños de Colombia no estarían dispuestos a ceder sus privilegios ante un exguerrillero que busca el cambio.',\n",
       "   'Esa narrativa es simplista, efectista y dañina. Para comenzar, el problema no es que Petro sea un exguerrillero. Si el presidente fuera Antonio Navarro la economía estaría funcionando mejor y la polarización no estaría disparada. La mitad del estancamiento del PIB obedece a factores internacionales, pero la otra mitad tiene nombre propio. El problema es que Petro, un agitador político brillante, ha resultado un administrador incompetente con una personalidad paranoica y pendenciera y unos hábitos de trabajo extraños.',\n",
       "   'Su éxito se basó en haber hecho un diagnóstico acertado de las fallas del sistema. Sin embargo, sus soluciones siempre han estado enmarcadas en una óptica de lucha de clases poco realista y obsoleta. Petro tiene frente al sector privado una prevención cuasi marxista. Él cree que el capitalismo está fracasando. Tiene razón. Lo que no aclara es que el socialismo ya fracasó. ',\n",
       "   'Para él la oposición de la oligarquía es la razón por la cual el cambio que pide el pueblo está bloqueado. Ese es un planteamiento taquillero que siempre creerá la tercera parte de los colombianos. Pero no es verdad. Todos los presidentes creen que gobiernan para los pobres. No necesariamente porque los quieran, sino porque las personalidades que buscan el poder tienen algo de megalomanía y su prioridad es ante todo su lugar en la historia. Y ese veredicto lo da solamente el pueblo.',\n",
       "   'No es verdad que Petro sea el primer presidente de izquierda en la historia de Colombia. Mas transformador que este Gobierno pueden terminar siendo los de José Hilario López, Alfonso López Pumarejo, los dos Lleras y otros.',\n",
       "   'Tampoco es válida la teoría de que solo la izquierda gobierna para los pobres. Sin ir más lejos, según todas las encuestas, el presidente a quien más han querido los “nadies” en el último medio siglo ha sido Álvaro Uribe. Igualmente, el ministro que más ha hecho por los “nadies” en vivienda, acueducto, alcantarillado e infraestructura vial ha sido Germán Vargas. Y los dos son símbolos de la derecha en la actualidad.',\n",
       "   'Por lo tanto, la razón por la cual las reformas de Petro no están siendo aprobadas no es porque los críticos sean de derecha, ni porque estén financiados por los dueños de Colombia, ni porque los congresistas que votan en contra estén chantajeados por mermelada. La verdadera razón es porque después del entusiasmo inicial por el concepto abstracto del “cambio”, en el desarrollo del debate han salido a flote riesgos enormes en la mayoría de las propuestas del Gobierno.',\n",
       "   'Los defensores de intereses particulares sí se oponen a las reformas que los afectan. Pero no son estos los que han volteado a la opinión pública. Han sido más bien las opiniones de los expertos las que han alertado sobre sus posibles consecuencias. Las críticas que se le han hecho a la reforma de la salud, a la laboral, a la de pensiones y a otras, son contundentes.',\n",
       "   'En este momento en Colombia no hay un debate entre izquierda y derecha sino entre soñadores y realistas. Todos los economistas serios están de acuerdo en que la posición radical del Gobierno de no otorgar nuevas licencias de exploración compromete no solo el futuro energético del país sino su estabilidad económica. Igualmente, los conocedores del orden público consideran que la ‘paz total’ con su exceso de generosidad con toda clase de delincuentes puede acabar empeorando la seguridad actual.',\n",
       "   'Lo anterior no significa que los tecnócratas siempre tengan la razón. Petro ha estudiado los problemas del país y no puede estar equivocado en todo. Sin embargo, la mayoría de sus críticos tiene credibilidad por la experiencia que han acumulado manejando los problemas del país tanto del sector público como del privado. Cuando personas como Mauricio Cárdenas, Alejandro Gaviria, Juan Carlos Echeverry, Juan Camilo Restrepo, Salomón Kalmanovitz, Mauricio Cabrera, Cecilia López y muchos otros opinan, no lo hacen porque estén al servicio de los grandes intereses privados. Lo hacen porque están preocupados por el futuro de los “nadies” y del país. Eso es lo que nunca ha podido entender Gustavo Petro.']}]"
      ]
     },
     "execution_count": 96,
     "metadata": {},
     "output_type": "execute_result"
    }
   ],
   "source": [
    "a1"
   ]
  },
  {
   "cell_type": "code",
   "execution_count": 97,
   "metadata": {},
   "outputs": [],
   "source": [
    "import re\n",
    "from unidecode import unidecode\n",
    "\n",
    "def preprocess_text(text):\n",
    "    # Remove punctuation and convert to lowercase\n",
    "    text = re.sub(r'[^\\w\\s]', '', text.lower())\n",
    "    # Remove accents\n",
    "    text = unidecode(text)\n",
    "    return text\n",
    "\n",
    "def remove_stop_words(text, custom_stop_words):\n",
    "    \"\"\"\n",
    "    Remove custom stop words from the input text.\n",
    "\n",
    "    Args:\n",
    "        text (str): Input text.\n",
    "        custom_stop_words (list): List of custom stop words to be removed.\n",
    "\n",
    "    Returns:\n",
    "        str: Text with custom stop words removed.\n",
    "    \"\"\"\n",
    "    stop_words = set(custom_stop_words)\n",
    "    return ' '.join(word for word in text.split() if word.lower() not in stop_words)"
   ]
  },
  {
   "cell_type": "code",
   "execution_count": 98,
   "metadata": {},
   "outputs": [],
   "source": [
    "import numpy as np\n",
    "from sklearn.feature_extraction.text import CountVectorizer\n",
    "\n",
    "# Sample text data\n",
    "documents = [\n",
    "    \"Petro presidente de izquierda de colombia\",\n",
    "    \"presidente de colombia es petro\",\n",
    "    \"petro es presidente\",\n",
    "    \"presidente colombia\"\n",
    "]\n",
    " \n",
    "stop_words = ['de','es']\n",
    "# Initialize CountVectorizer\n",
    "vectorizer = CountVectorizer(stop_words=['de','es'])\n",
    "\n",
    "# Fit and transform the documents\n",
    "X = vectorizer.fit_transform(documents)\n"
   ]
  },
  {
   "cell_type": "code",
   "execution_count": 99,
   "metadata": {},
   "outputs": [
    {
     "data": {
      "text/plain": [
       "array(['colombia', 'izquierda', 'petro', 'presidente'], dtype=object)"
      ]
     },
     "execution_count": 99,
     "metadata": {},
     "output_type": "execute_result"
    }
   ],
   "source": [
    "vectorizer.get_feature_names_out()"
   ]
  },
  {
   "cell_type": "code",
   "execution_count": 100,
   "metadata": {},
   "outputs": [],
   "source": [
    "def generate_pairs(text):\n",
    "    words = text.split()\n",
    "    pairs = []\n",
    "    for i in range(len(words) - 1):\n",
    "        pairs.append(words[i]+\" \"+words[i+1])\n",
    "    return pairs"
   ]
  },
  {
   "cell_type": "code",
   "execution_count": 101,
   "metadata": {},
   "outputs": [
    {
     "name": "stdout",
     "output_type": "stream",
     "text": [
      "['Petro presidente', 'presidente izquierda', 'izquierda colombia', 'presidente colombia', 'colombia petro', 'petro presidente', 'presidente colombia']\n"
     ]
    }
   ],
   "source": [
    "docs_pairs = []\n",
    "\n",
    "# Generate pairs after removing stop words for each document\n",
    "docs_pairs.extend([pair for d in documents for pair in generate_pairs(remove_stop_words(d, stop_words))])\n",
    "\n",
    "print(docs_pairs)"
   ]
  },
  {
   "cell_type": "code",
   "execution_count": 102,
   "metadata": {},
   "outputs": [
    {
     "data": {
      "text/html": [
       "<div>\n",
       "<style scoped>\n",
       "    .dataframe tbody tr th:only-of-type {\n",
       "        vertical-align: middle;\n",
       "    }\n",
       "\n",
       "    .dataframe tbody tr th {\n",
       "        vertical-align: top;\n",
       "    }\n",
       "\n",
       "    .dataframe thead th {\n",
       "        text-align: right;\n",
       "    }\n",
       "</style>\n",
       "<table border=\"1\" class=\"dataframe\">\n",
       "  <thead>\n",
       "    <tr style=\"text-align: right;\">\n",
       "      <th></th>\n",
       "      <th>colombia</th>\n",
       "      <th>izquierda</th>\n",
       "      <th>petro</th>\n",
       "      <th>presidente</th>\n",
       "    </tr>\n",
       "  </thead>\n",
       "  <tbody>\n",
       "    <tr>\n",
       "      <th>colombia</th>\n",
       "      <td>0</td>\n",
       "      <td>1</td>\n",
       "      <td>1</td>\n",
       "      <td>2</td>\n",
       "    </tr>\n",
       "    <tr>\n",
       "      <th>izquierda</th>\n",
       "      <td>1</td>\n",
       "      <td>0</td>\n",
       "      <td>0</td>\n",
       "      <td>1</td>\n",
       "    </tr>\n",
       "    <tr>\n",
       "      <th>petro</th>\n",
       "      <td>1</td>\n",
       "      <td>0</td>\n",
       "      <td>0</td>\n",
       "      <td>2</td>\n",
       "    </tr>\n",
       "    <tr>\n",
       "      <th>presidente</th>\n",
       "      <td>2</td>\n",
       "      <td>1</td>\n",
       "      <td>2</td>\n",
       "      <td>0</td>\n",
       "    </tr>\n",
       "  </tbody>\n",
       "</table>\n",
       "</div>"
      ],
      "text/plain": [
       "            colombia  izquierda  petro  presidente\n",
       "colombia           0          1      1           2\n",
       "izquierda          1          0      0           1\n",
       "petro              1          0      0           2\n",
       "presidente         2          1      2           0"
      ]
     },
     "execution_count": 102,
     "metadata": {},
     "output_type": "execute_result"
    }
   ],
   "source": [
    "encoding = vectorizer.transform(docs_pairs).toarray()\n",
    "co_ocurrences = encoding.T@encoding\n",
    "\n",
    "names = vectorizer.get_feature_names_out().tolist()\n",
    "\n",
    "np.fill_diagonal(co_ocurrences, 0)\n",
    "\n",
    "pd.DataFrame(co_ocurrences, index=names, columns=names)"
   ]
  }
 ],
 "metadata": {
  "kernelspec": {
   "display_name": "network_science-J3mh9D9T",
   "language": "python",
   "name": "python3"
  },
  "language_info": {
   "codemirror_mode": {
    "name": "ipython",
    "version": 3
   },
   "file_extension": ".py",
   "mimetype": "text/x-python",
   "name": "python",
   "nbconvert_exporter": "python",
   "pygments_lexer": "ipython3",
   "version": "3.11.2"
  }
 },
 "nbformat": 4,
 "nbformat_minor": 2
}
